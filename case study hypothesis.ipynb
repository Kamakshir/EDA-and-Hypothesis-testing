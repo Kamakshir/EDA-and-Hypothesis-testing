{
 "cells": [
  {
   "cell_type": "code",
   "execution_count": 1,
   "id": "641ce718",
   "metadata": {},
   "outputs": [],
   "source": [
    "import numpy as np\n",
    "import pandas as pd\n",
    "import scipy.stats as stats\n",
    "import statsmodels.api \n",
    "\n",
    "import warnings \n",
    "warnings.filterwarnings('ignore')\n",
    "\n",
    "import seaborn as sns\n",
    "import matplotlib.pyplot as plt"
   ]
  },
  {
   "cell_type": "markdown",
   "id": "beb31cd8",
   "metadata": {},
   "source": [
    "## Q-1"
   ]
  },
  {
   "cell_type": "code",
   "execution_count": 207,
   "id": "a5586ae9",
   "metadata": {},
   "outputs": [
    {
     "data": {
      "text/html": [
       "<div>\n",
       "<style scoped>\n",
       "    .dataframe tbody tr th:only-of-type {\n",
       "        vertical-align: middle;\n",
       "    }\n",
       "\n",
       "    .dataframe tbody tr th {\n",
       "        vertical-align: top;\n",
       "    }\n",
       "\n",
       "    .dataframe thead th {\n",
       "        text-align: right;\n",
       "    }\n",
       "</style>\n",
       "<table border=\"1\" class=\"dataframe\">\n",
       "  <thead>\n",
       "    <tr style=\"text-align: right;\">\n",
       "      <th></th>\n",
       "      <th>Amount_Requested</th>\n",
       "      <th>Amount_Funded_By_Investors</th>\n",
       "      <th>Interest_Rate</th>\n",
       "      <th>Loan_Length</th>\n",
       "      <th>Loan_Purpose</th>\n",
       "      <th>Debt_To_Income_Ratio</th>\n",
       "      <th>State</th>\n",
       "      <th>Home_Ownership</th>\n",
       "      <th>Monthly_Income</th>\n",
       "      <th>FICO_Range</th>\n",
       "      <th>Open_CREDIT_Lines</th>\n",
       "      <th>Revolving_CREDIT_Balance</th>\n",
       "      <th>Inquiries_in_the_Last_6_Months</th>\n",
       "      <th>Employment_Length</th>\n",
       "    </tr>\n",
       "  </thead>\n",
       "  <tbody>\n",
       "    <tr>\n",
       "      <th>0</th>\n",
       "      <td>20000.0</td>\n",
       "      <td>20000.00</td>\n",
       "      <td>8.90%</td>\n",
       "      <td>36 months</td>\n",
       "      <td>debt_consolidation</td>\n",
       "      <td>14.90%</td>\n",
       "      <td>SC</td>\n",
       "      <td>MORTGAGE</td>\n",
       "      <td>6541.67</td>\n",
       "      <td>735-739</td>\n",
       "      <td>14.0</td>\n",
       "      <td>14272.0</td>\n",
       "      <td>2.0</td>\n",
       "      <td>&lt; 1 year</td>\n",
       "    </tr>\n",
       "    <tr>\n",
       "      <th>1</th>\n",
       "      <td>19200.0</td>\n",
       "      <td>19200.00</td>\n",
       "      <td>12.12%</td>\n",
       "      <td>36 months</td>\n",
       "      <td>debt_consolidation</td>\n",
       "      <td>28.36%</td>\n",
       "      <td>TX</td>\n",
       "      <td>MORTGAGE</td>\n",
       "      <td>4583.33</td>\n",
       "      <td>715-719</td>\n",
       "      <td>12.0</td>\n",
       "      <td>11140.0</td>\n",
       "      <td>1.0</td>\n",
       "      <td>2 years</td>\n",
       "    </tr>\n",
       "    <tr>\n",
       "      <th>2</th>\n",
       "      <td>35000.0</td>\n",
       "      <td>35000.00</td>\n",
       "      <td>21.98%</td>\n",
       "      <td>60 months</td>\n",
       "      <td>debt_consolidation</td>\n",
       "      <td>23.81%</td>\n",
       "      <td>CA</td>\n",
       "      <td>MORTGAGE</td>\n",
       "      <td>11500.00</td>\n",
       "      <td>690-694</td>\n",
       "      <td>14.0</td>\n",
       "      <td>21977.0</td>\n",
       "      <td>1.0</td>\n",
       "      <td>2 years</td>\n",
       "    </tr>\n",
       "    <tr>\n",
       "      <th>3</th>\n",
       "      <td>10000.0</td>\n",
       "      <td>9975.00</td>\n",
       "      <td>9.99%</td>\n",
       "      <td>36 months</td>\n",
       "      <td>debt_consolidation</td>\n",
       "      <td>14.30%</td>\n",
       "      <td>KS</td>\n",
       "      <td>MORTGAGE</td>\n",
       "      <td>3833.33</td>\n",
       "      <td>695-699</td>\n",
       "      <td>10.0</td>\n",
       "      <td>9346.0</td>\n",
       "      <td>0.0</td>\n",
       "      <td>5 years</td>\n",
       "    </tr>\n",
       "    <tr>\n",
       "      <th>4</th>\n",
       "      <td>12000.0</td>\n",
       "      <td>12000.00</td>\n",
       "      <td>11.71%</td>\n",
       "      <td>36 months</td>\n",
       "      <td>credit_card</td>\n",
       "      <td>18.78%</td>\n",
       "      <td>NJ</td>\n",
       "      <td>RENT</td>\n",
       "      <td>3195.00</td>\n",
       "      <td>695-699</td>\n",
       "      <td>11.0</td>\n",
       "      <td>14469.0</td>\n",
       "      <td>0.0</td>\n",
       "      <td>9 years</td>\n",
       "    </tr>\n",
       "    <tr>\n",
       "      <th>...</th>\n",
       "      <td>...</td>\n",
       "      <td>...</td>\n",
       "      <td>...</td>\n",
       "      <td>...</td>\n",
       "      <td>...</td>\n",
       "      <td>...</td>\n",
       "      <td>...</td>\n",
       "      <td>...</td>\n",
       "      <td>...</td>\n",
       "      <td>...</td>\n",
       "      <td>...</td>\n",
       "      <td>...</td>\n",
       "      <td>...</td>\n",
       "      <td>...</td>\n",
       "    </tr>\n",
       "    <tr>\n",
       "      <th>2495</th>\n",
       "      <td>30000.0</td>\n",
       "      <td>29950.00</td>\n",
       "      <td>16.77%</td>\n",
       "      <td>60 months</td>\n",
       "      <td>debt_consolidation</td>\n",
       "      <td>19.23%</td>\n",
       "      <td>NY</td>\n",
       "      <td>MORTGAGE</td>\n",
       "      <td>9250.00</td>\n",
       "      <td>705-709</td>\n",
       "      <td>15.0</td>\n",
       "      <td>45880.0</td>\n",
       "      <td>1.0</td>\n",
       "      <td>8 years</td>\n",
       "    </tr>\n",
       "    <tr>\n",
       "      <th>2496</th>\n",
       "      <td>16000.0</td>\n",
       "      <td>16000.00</td>\n",
       "      <td>14.09%</td>\n",
       "      <td>60 months</td>\n",
       "      <td>home_improvement</td>\n",
       "      <td>21.54%</td>\n",
       "      <td>MD</td>\n",
       "      <td>OWN</td>\n",
       "      <td>8903.25</td>\n",
       "      <td>740-744</td>\n",
       "      <td>18.0</td>\n",
       "      <td>18898.0</td>\n",
       "      <td>1.0</td>\n",
       "      <td>10+ years</td>\n",
       "    </tr>\n",
       "    <tr>\n",
       "      <th>2497</th>\n",
       "      <td>10000.0</td>\n",
       "      <td>10000.00</td>\n",
       "      <td>13.99%</td>\n",
       "      <td>36 months</td>\n",
       "      <td>debt_consolidation</td>\n",
       "      <td>4.89%</td>\n",
       "      <td>PA</td>\n",
       "      <td>MORTGAGE</td>\n",
       "      <td>2166.67</td>\n",
       "      <td>680-684</td>\n",
       "      <td>4.0</td>\n",
       "      <td>4544.0</td>\n",
       "      <td>0.0</td>\n",
       "      <td>10+ years</td>\n",
       "    </tr>\n",
       "    <tr>\n",
       "      <th>2498</th>\n",
       "      <td>6000.0</td>\n",
       "      <td>6000.00</td>\n",
       "      <td>12.42%</td>\n",
       "      <td>36 months</td>\n",
       "      <td>major_purchase</td>\n",
       "      <td>16.66%</td>\n",
       "      <td>NJ</td>\n",
       "      <td>RENT</td>\n",
       "      <td>3500.00</td>\n",
       "      <td>675-679</td>\n",
       "      <td>8.0</td>\n",
       "      <td>7753.0</td>\n",
       "      <td>0.0</td>\n",
       "      <td>5 years</td>\n",
       "    </tr>\n",
       "    <tr>\n",
       "      <th>2499</th>\n",
       "      <td>9000.0</td>\n",
       "      <td>5242.75</td>\n",
       "      <td>13.79%</td>\n",
       "      <td>36 months</td>\n",
       "      <td>debt_consolidation</td>\n",
       "      <td>6.76%</td>\n",
       "      <td>NY</td>\n",
       "      <td>RENT</td>\n",
       "      <td>3875.00</td>\n",
       "      <td>670-674</td>\n",
       "      <td>7.0</td>\n",
       "      <td>7589.0</td>\n",
       "      <td>0.0</td>\n",
       "      <td>10+ years</td>\n",
       "    </tr>\n",
       "  </tbody>\n",
       "</table>\n",
       "<p>2500 rows × 14 columns</p>\n",
       "</div>"
      ],
      "text/plain": [
       "      Amount_Requested  Amount_Funded_By_Investors Interest_Rate Loan_Length  \\\n",
       "0              20000.0                    20000.00         8.90%   36 months   \n",
       "1              19200.0                    19200.00        12.12%   36 months   \n",
       "2              35000.0                    35000.00        21.98%   60 months   \n",
       "3              10000.0                     9975.00         9.99%   36 months   \n",
       "4              12000.0                    12000.00        11.71%   36 months   \n",
       "...                ...                         ...           ...         ...   \n",
       "2495           30000.0                    29950.00        16.77%   60 months   \n",
       "2496           16000.0                    16000.00        14.09%   60 months   \n",
       "2497           10000.0                    10000.00        13.99%   36 months   \n",
       "2498            6000.0                     6000.00        12.42%   36 months   \n",
       "2499            9000.0                     5242.75        13.79%   36 months   \n",
       "\n",
       "            Loan_Purpose Debt_To_Income_Ratio State Home_Ownership  \\\n",
       "0     debt_consolidation               14.90%    SC       MORTGAGE   \n",
       "1     debt_consolidation               28.36%    TX       MORTGAGE   \n",
       "2     debt_consolidation               23.81%    CA       MORTGAGE   \n",
       "3     debt_consolidation               14.30%    KS       MORTGAGE   \n",
       "4            credit_card               18.78%    NJ           RENT   \n",
       "...                  ...                  ...   ...            ...   \n",
       "2495  debt_consolidation               19.23%    NY       MORTGAGE   \n",
       "2496    home_improvement               21.54%    MD            OWN   \n",
       "2497  debt_consolidation                4.89%    PA       MORTGAGE   \n",
       "2498      major_purchase               16.66%    NJ           RENT   \n",
       "2499  debt_consolidation                6.76%    NY           RENT   \n",
       "\n",
       "      Monthly_Income FICO_Range  Open_CREDIT_Lines  Revolving_CREDIT_Balance  \\\n",
       "0            6541.67    735-739               14.0                   14272.0   \n",
       "1            4583.33    715-719               12.0                   11140.0   \n",
       "2           11500.00    690-694               14.0                   21977.0   \n",
       "3            3833.33    695-699               10.0                    9346.0   \n",
       "4            3195.00    695-699               11.0                   14469.0   \n",
       "...              ...        ...                ...                       ...   \n",
       "2495         9250.00    705-709               15.0                   45880.0   \n",
       "2496         8903.25    740-744               18.0                   18898.0   \n",
       "2497         2166.67    680-684                4.0                    4544.0   \n",
       "2498         3500.00    675-679                8.0                    7753.0   \n",
       "2499         3875.00    670-674                7.0                    7589.0   \n",
       "\n",
       "      Inquiries_in_the_Last_6_Months Employment_Length  \n",
       "0                                2.0          < 1 year  \n",
       "1                                1.0           2 years  \n",
       "2                                1.0           2 years  \n",
       "3                                0.0           5 years  \n",
       "4                                0.0           9 years  \n",
       "...                              ...               ...  \n",
       "2495                             1.0           8 years  \n",
       "2496                             1.0         10+ years  \n",
       "2497                             0.0         10+ years  \n",
       "2498                             0.0           5 years  \n",
       "2499                             0.0         10+ years  \n",
       "\n",
       "[2500 rows x 14 columns]"
      ]
     },
     "execution_count": 207,
     "metadata": {},
     "output_type": "execute_result"
    }
   ],
   "source": [
    "loans = pd.read_csv(r'LoansData.csv')\n",
    "loans"
   ]
  },
  {
   "cell_type": "code",
   "execution_count": 208,
   "id": "9b6b7c68",
   "metadata": {},
   "outputs": [],
   "source": [
    "loans = loans.dropna()"
   ]
  },
  {
   "cell_type": "code",
   "execution_count": 209,
   "id": "89b85f7f",
   "metadata": {},
   "outputs": [
    {
     "name": "stdout",
     "output_type": "stream",
     "text": [
      "<class 'pandas.core.frame.DataFrame'>\n",
      "Int64Index: 2413 entries, 0 to 2499\n",
      "Data columns (total 14 columns):\n",
      " #   Column                          Non-Null Count  Dtype  \n",
      "---  ------                          --------------  -----  \n",
      " 0   Amount_Requested                2413 non-null   float64\n",
      " 1   Amount_Funded_By_Investors      2413 non-null   float64\n",
      " 2   Interest_Rate                   2413 non-null   object \n",
      " 3   Loan_Length                     2413 non-null   object \n",
      " 4   Loan_Purpose                    2413 non-null   object \n",
      " 5   Debt_To_Income_Ratio            2413 non-null   object \n",
      " 6   State                           2413 non-null   object \n",
      " 7   Home_Ownership                  2413 non-null   object \n",
      " 8   Monthly_Income                  2413 non-null   float64\n",
      " 9   FICO_Range                      2413 non-null   object \n",
      " 10  Open_CREDIT_Lines               2413 non-null   float64\n",
      " 11  Revolving_CREDIT_Balance        2413 non-null   float64\n",
      " 12  Inquiries_in_the_Last_6_Months  2413 non-null   float64\n",
      " 13  Employment_Length               2413 non-null   object \n",
      "dtypes: float64(6), object(8)\n",
      "memory usage: 282.8+ KB\n"
     ]
    }
   ],
   "source": [
    "loans.info()"
   ]
  },
  {
   "cell_type": "code",
   "execution_count": 210,
   "id": "0edfeb89",
   "metadata": {},
   "outputs": [],
   "source": [
    "loans['Interest_Rate'] = loans['Interest_Rate'].str.slice(0,-1)\n",
    "loans['Interest_Rate'] = pd.to_numeric(loans.Interest_Rate)"
   ]
  },
  {
   "cell_type": "raw",
   "id": "7111d312",
   "metadata": {},
   "source": [
    "#1. a. Intrest rate is varied for different loan amounts\n",
    "\n",
    "H0: Interest rate is not varied for different loan amounts\n",
    "H1: Interest rate is varied for different loan amounts"
   ]
  },
  {
   "cell_type": "code",
   "execution_count": 211,
   "id": "2de7aeca",
   "metadata": {},
   "outputs": [],
   "source": [
    "loans['Loan_Length'] = loans['Loan_Length'].str.slice(0,2)\n",
    "loans['Loan_Length'] = pd.to_numeric(loans['Loan_Length'])"
   ]
  },
  {
   "cell_type": "code",
   "execution_count": 212,
   "id": "c1321a16",
   "metadata": {},
   "outputs": [],
   "source": [
    "a = loans[\"Amount_Funded_By_Investors\"]\n",
    "b = loans[\"Interest_Rate\"]"
   ]
  },
  {
   "cell_type": "code",
   "execution_count": 213,
   "id": "c0e066d8",
   "metadata": {},
   "outputs": [
    {
     "data": {
      "text/plain": [
       "Ttest_indResult(statistic=76.66587325965071, pvalue=0.0)"
      ]
     },
     "execution_count": 213,
     "metadata": {},
     "output_type": "execute_result"
    }
   ],
   "source": [
    "stats.ttest_ind(loans.Amount_Funded_By_Investors,loans.Interest_Rate)"
   ]
  },
  {
   "cell_type": "code",
   "execution_count": 214,
   "id": "6c97e123",
   "metadata": {},
   "outputs": [],
   "source": [
    "# pvalue=0 < 0.05, At 95% Confidence level we reject null hypothesis H0\n",
    "\n",
    "# Therefore, Interest rate is varied for different loan amounts"
   ]
  },
  {
   "cell_type": "raw",
   "id": "5659386a",
   "metadata": {},
   "source": [
    "#1. b. Loan length is directly effecting intrest rate.\n",
    "\n",
    "#H0: Loan length  is not affecting interest rate\n",
    "#H1: Loan length is directly affecting interest rate"
   ]
  },
  {
   "cell_type": "code",
   "execution_count": 215,
   "id": "9a249c57",
   "metadata": {},
   "outputs": [],
   "source": [
    "x = loans['Loan_Length']\n",
    "y = loans[\"Interest_Rate\"]"
   ]
  },
  {
   "cell_type": "code",
   "execution_count": 216,
   "id": "21392544",
   "metadata": {},
   "outputs": [
    {
     "data": {
      "text/plain": [
       "Ttest_indResult(statistic=128.36728199919077, pvalue=0.0)"
      ]
     },
     "execution_count": 216,
     "metadata": {},
     "output_type": "execute_result"
    }
   ],
   "source": [
    "stats.ttest_ind(x,y)"
   ]
  },
  {
   "cell_type": "code",
   "execution_count": 217,
   "id": "d128af17",
   "metadata": {},
   "outputs": [],
   "source": [
    "# pvalue=0 < 0.05, At 95% Confidence level we reject null hypothesis H0\n",
    "\n",
    "# Therefore, Loan length is directly affecting interest rate"
   ]
  },
  {
   "cell_type": "raw",
   "id": "1c753aaf",
   "metadata": {},
   "source": [
    "#1. c. Interest rate varies for different purpose of loans\n",
    "\n",
    "#H0: Interest rate does not vary for different purpose of loans\n",
    "#H1: Interest rate varies for different purpose of loans"
   ]
  },
  {
   "cell_type": "code",
   "execution_count": 219,
   "id": "1fea3d09",
   "metadata": {},
   "outputs": [
    {
     "data": {
      "text/plain": [
       "14"
      ]
     },
     "execution_count": 219,
     "metadata": {},
     "output_type": "execute_result"
    }
   ],
   "source": [
    "loans.Loan_Purpose.nunique()"
   ]
  },
  {
   "cell_type": "code",
   "execution_count": 220,
   "id": "f6176e73",
   "metadata": {},
   "outputs": [
    {
     "data": {
      "text/html": [
       "<div>\n",
       "<style scoped>\n",
       "    .dataframe tbody tr th:only-of-type {\n",
       "        vertical-align: middle;\n",
       "    }\n",
       "\n",
       "    .dataframe tbody tr th {\n",
       "        vertical-align: top;\n",
       "    }\n",
       "\n",
       "    .dataframe thead th {\n",
       "        text-align: right;\n",
       "    }\n",
       "</style>\n",
       "<table border=\"1\" class=\"dataframe\">\n",
       "  <thead>\n",
       "    <tr style=\"text-align: right;\">\n",
       "      <th></th>\n",
       "      <th>Amount_Requested</th>\n",
       "      <th>Amount_Funded_By_Investors</th>\n",
       "      <th>Interest_Rate</th>\n",
       "      <th>Loan_Length</th>\n",
       "      <th>Debt_To_Income_Ratio</th>\n",
       "      <th>State</th>\n",
       "      <th>Home_Ownership</th>\n",
       "      <th>Monthly_Income</th>\n",
       "      <th>FICO_Range</th>\n",
       "      <th>Open_CREDIT_Lines</th>\n",
       "      <th>Revolving_CREDIT_Balance</th>\n",
       "      <th>Inquiries_in_the_Last_6_Months</th>\n",
       "      <th>Employment_Length</th>\n",
       "    </tr>\n",
       "    <tr>\n",
       "      <th>Loan_Purpose</th>\n",
       "      <th></th>\n",
       "      <th></th>\n",
       "      <th></th>\n",
       "      <th></th>\n",
       "      <th></th>\n",
       "      <th></th>\n",
       "      <th></th>\n",
       "      <th></th>\n",
       "      <th></th>\n",
       "      <th></th>\n",
       "      <th></th>\n",
       "      <th></th>\n",
       "      <th></th>\n",
       "    </tr>\n",
       "  </thead>\n",
       "  <tbody>\n",
       "    <tr>\n",
       "      <th>car</th>\n",
       "      <td>30</td>\n",
       "      <td>42</td>\n",
       "      <td>36</td>\n",
       "      <td>2</td>\n",
       "      <td>50</td>\n",
       "      <td>20</td>\n",
       "      <td>3</td>\n",
       "      <td>41</td>\n",
       "      <td>23</td>\n",
       "      <td>16</td>\n",
       "      <td>49</td>\n",
       "      <td>4</td>\n",
       "      <td>9</td>\n",
       "    </tr>\n",
       "    <tr>\n",
       "      <th>credit_card</th>\n",
       "      <td>149</td>\n",
       "      <td>210</td>\n",
       "      <td>130</td>\n",
       "      <td>2</td>\n",
       "      <td>392</td>\n",
       "      <td>43</td>\n",
       "      <td>4</td>\n",
       "      <td>166</td>\n",
       "      <td>32</td>\n",
       "      <td>24</td>\n",
       "      <td>426</td>\n",
       "      <td>8</td>\n",
       "      <td>11</td>\n",
       "    </tr>\n",
       "    <tr>\n",
       "      <th>debt_consolidation</th>\n",
       "      <td>280</td>\n",
       "      <td>460</td>\n",
       "      <td>217</td>\n",
       "      <td>2</td>\n",
       "      <td>1006</td>\n",
       "      <td>44</td>\n",
       "      <td>4</td>\n",
       "      <td>395</td>\n",
       "      <td>35</td>\n",
       "      <td>28</td>\n",
       "      <td>1232</td>\n",
       "      <td>9</td>\n",
       "      <td>11</td>\n",
       "    </tr>\n",
       "    <tr>\n",
       "      <th>educational</th>\n",
       "      <td>11</td>\n",
       "      <td>13</td>\n",
       "      <td>14</td>\n",
       "      <td>2</td>\n",
       "      <td>14</td>\n",
       "      <td>8</td>\n",
       "      <td>3</td>\n",
       "      <td>13</td>\n",
       "      <td>11</td>\n",
       "      <td>10</td>\n",
       "      <td>14</td>\n",
       "      <td>6</td>\n",
       "      <td>8</td>\n",
       "    </tr>\n",
       "    <tr>\n",
       "      <th>home_improvement</th>\n",
       "      <td>74</td>\n",
       "      <td>105</td>\n",
       "      <td>84</td>\n",
       "      <td>2</td>\n",
       "      <td>144</td>\n",
       "      <td>34</td>\n",
       "      <td>3</td>\n",
       "      <td>92</td>\n",
       "      <td>32</td>\n",
       "      <td>21</td>\n",
       "      <td>144</td>\n",
       "      <td>8</td>\n",
       "      <td>11</td>\n",
       "    </tr>\n",
       "    <tr>\n",
       "      <th>house</th>\n",
       "      <td>16</td>\n",
       "      <td>16</td>\n",
       "      <td>19</td>\n",
       "      <td>2</td>\n",
       "      <td>20</td>\n",
       "      <td>12</td>\n",
       "      <td>3</td>\n",
       "      <td>19</td>\n",
       "      <td>15</td>\n",
       "      <td>10</td>\n",
       "      <td>20</td>\n",
       "      <td>4</td>\n",
       "      <td>10</td>\n",
       "    </tr>\n",
       "    <tr>\n",
       "      <th>major_purchase</th>\n",
       "      <td>45</td>\n",
       "      <td>62</td>\n",
       "      <td>62</td>\n",
       "      <td>2</td>\n",
       "      <td>99</td>\n",
       "      <td>26</td>\n",
       "      <td>3</td>\n",
       "      <td>77</td>\n",
       "      <td>29</td>\n",
       "      <td>17</td>\n",
       "      <td>96</td>\n",
       "      <td>7</td>\n",
       "      <td>10</td>\n",
       "    </tr>\n",
       "    <tr>\n",
       "      <th>medical</th>\n",
       "      <td>22</td>\n",
       "      <td>24</td>\n",
       "      <td>25</td>\n",
       "      <td>2</td>\n",
       "      <td>28</td>\n",
       "      <td>19</td>\n",
       "      <td>4</td>\n",
       "      <td>26</td>\n",
       "      <td>19</td>\n",
       "      <td>13</td>\n",
       "      <td>27</td>\n",
       "      <td>4</td>\n",
       "      <td>10</td>\n",
       "    </tr>\n",
       "    <tr>\n",
       "      <th>moving</th>\n",
       "      <td>15</td>\n",
       "      <td>22</td>\n",
       "      <td>27</td>\n",
       "      <td>2</td>\n",
       "      <td>29</td>\n",
       "      <td>15</td>\n",
       "      <td>3</td>\n",
       "      <td>27</td>\n",
       "      <td>15</td>\n",
       "      <td>12</td>\n",
       "      <td>28</td>\n",
       "      <td>5</td>\n",
       "      <td>10</td>\n",
       "    </tr>\n",
       "    <tr>\n",
       "      <th>other</th>\n",
       "      <td>77</td>\n",
       "      <td>110</td>\n",
       "      <td>100</td>\n",
       "      <td>2</td>\n",
       "      <td>179</td>\n",
       "      <td>33</td>\n",
       "      <td>3</td>\n",
       "      <td>132</td>\n",
       "      <td>31</td>\n",
       "      <td>21</td>\n",
       "      <td>183</td>\n",
       "      <td>8</td>\n",
       "      <td>11</td>\n",
       "    </tr>\n",
       "    <tr>\n",
       "      <th>renewable_energy</th>\n",
       "      <td>4</td>\n",
       "      <td>4</td>\n",
       "      <td>4</td>\n",
       "      <td>1</td>\n",
       "      <td>4</td>\n",
       "      <td>3</td>\n",
       "      <td>2</td>\n",
       "      <td>4</td>\n",
       "      <td>4</td>\n",
       "      <td>4</td>\n",
       "      <td>4</td>\n",
       "      <td>2</td>\n",
       "      <td>4</td>\n",
       "    </tr>\n",
       "    <tr>\n",
       "      <th>small_business</th>\n",
       "      <td>46</td>\n",
       "      <td>66</td>\n",
       "      <td>63</td>\n",
       "      <td>2</td>\n",
       "      <td>83</td>\n",
       "      <td>24</td>\n",
       "      <td>3</td>\n",
       "      <td>55</td>\n",
       "      <td>28</td>\n",
       "      <td>17</td>\n",
       "      <td>79</td>\n",
       "      <td>6</td>\n",
       "      <td>11</td>\n",
       "    </tr>\n",
       "    <tr>\n",
       "      <th>vacation</th>\n",
       "      <td>15</td>\n",
       "      <td>16</td>\n",
       "      <td>20</td>\n",
       "      <td>2</td>\n",
       "      <td>19</td>\n",
       "      <td>9</td>\n",
       "      <td>3</td>\n",
       "      <td>16</td>\n",
       "      <td>12</td>\n",
       "      <td>13</td>\n",
       "      <td>20</td>\n",
       "      <td>4</td>\n",
       "      <td>7</td>\n",
       "    </tr>\n",
       "    <tr>\n",
       "      <th>wedding</th>\n",
       "      <td>22</td>\n",
       "      <td>27</td>\n",
       "      <td>29</td>\n",
       "      <td>2</td>\n",
       "      <td>37</td>\n",
       "      <td>16</td>\n",
       "      <td>3</td>\n",
       "      <td>31</td>\n",
       "      <td>20</td>\n",
       "      <td>12</td>\n",
       "      <td>37</td>\n",
       "      <td>5</td>\n",
       "      <td>11</td>\n",
       "    </tr>\n",
       "  </tbody>\n",
       "</table>\n",
       "</div>"
      ],
      "text/plain": [
       "                    Amount_Requested  Amount_Funded_By_Investors  \\\n",
       "Loan_Purpose                                                       \n",
       "car                               30                          42   \n",
       "credit_card                      149                         210   \n",
       "debt_consolidation               280                         460   \n",
       "educational                       11                          13   \n",
       "home_improvement                  74                         105   \n",
       "house                             16                          16   \n",
       "major_purchase                    45                          62   \n",
       "medical                           22                          24   \n",
       "moving                            15                          22   \n",
       "other                             77                         110   \n",
       "renewable_energy                   4                           4   \n",
       "small_business                    46                          66   \n",
       "vacation                          15                          16   \n",
       "wedding                           22                          27   \n",
       "\n",
       "                    Interest_Rate  Loan_Length  Debt_To_Income_Ratio  State  \\\n",
       "Loan_Purpose                                                                  \n",
       "car                            36            2                    50     20   \n",
       "credit_card                   130            2                   392     43   \n",
       "debt_consolidation            217            2                  1006     44   \n",
       "educational                    14            2                    14      8   \n",
       "home_improvement               84            2                   144     34   \n",
       "house                          19            2                    20     12   \n",
       "major_purchase                 62            2                    99     26   \n",
       "medical                        25            2                    28     19   \n",
       "moving                         27            2                    29     15   \n",
       "other                         100            2                   179     33   \n",
       "renewable_energy                4            1                     4      3   \n",
       "small_business                 63            2                    83     24   \n",
       "vacation                       20            2                    19      9   \n",
       "wedding                        29            2                    37     16   \n",
       "\n",
       "                    Home_Ownership  Monthly_Income  FICO_Range  \\\n",
       "Loan_Purpose                                                     \n",
       "car                              3              41          23   \n",
       "credit_card                      4             166          32   \n",
       "debt_consolidation               4             395          35   \n",
       "educational                      3              13          11   \n",
       "home_improvement                 3              92          32   \n",
       "house                            3              19          15   \n",
       "major_purchase                   3              77          29   \n",
       "medical                          4              26          19   \n",
       "moving                           3              27          15   \n",
       "other                            3             132          31   \n",
       "renewable_energy                 2               4           4   \n",
       "small_business                   3              55          28   \n",
       "vacation                         3              16          12   \n",
       "wedding                          3              31          20   \n",
       "\n",
       "                    Open_CREDIT_Lines  Revolving_CREDIT_Balance  \\\n",
       "Loan_Purpose                                                      \n",
       "car                                16                        49   \n",
       "credit_card                        24                       426   \n",
       "debt_consolidation                 28                      1232   \n",
       "educational                        10                        14   \n",
       "home_improvement                   21                       144   \n",
       "house                              10                        20   \n",
       "major_purchase                     17                        96   \n",
       "medical                            13                        27   \n",
       "moving                             12                        28   \n",
       "other                              21                       183   \n",
       "renewable_energy                    4                         4   \n",
       "small_business                     17                        79   \n",
       "vacation                           13                        20   \n",
       "wedding                            12                        37   \n",
       "\n",
       "                    Inquiries_in_the_Last_6_Months  Employment_Length  \n",
       "Loan_Purpose                                                           \n",
       "car                                              4                  9  \n",
       "credit_card                                      8                 11  \n",
       "debt_consolidation                               9                 11  \n",
       "educational                                      6                  8  \n",
       "home_improvement                                 8                 11  \n",
       "house                                            4                 10  \n",
       "major_purchase                                   7                 10  \n",
       "medical                                          4                 10  \n",
       "moving                                           5                 10  \n",
       "other                                            8                 11  \n",
       "renewable_energy                                 2                  4  \n",
       "small_business                                   6                 11  \n",
       "vacation                                         4                  7  \n",
       "wedding                                          5                 11  "
      ]
     },
     "execution_count": 220,
     "metadata": {},
     "output_type": "execute_result"
    }
   ],
   "source": [
    "loans.groupby('Loan_Purpose').nunique()"
   ]
  },
  {
   "cell_type": "code",
   "execution_count": 221,
   "id": "21853d69",
   "metadata": {},
   "outputs": [],
   "source": [
    "g1 = loans.loc[loans['Loan_Purpose']=='car']['Interest_Rate']\n",
    "g2 = loans.loc[loans['Loan_Purpose']=='credit_card']['Interest_Rate']\n",
    "g3 = loans.loc[loans['Loan_Purpose']=='debt_consolidation']['Interest_Rate']\n",
    "g4 = loans.loc[loans['Loan_Purpose']=='educational']['Interest_Rate']\n",
    "g5 = loans.loc[loans['Loan_Purpose']=='home_improvement']['Interest_Rate']\n",
    "g6 = loans.loc[loans['Loan_Purpose']=='house']['Interest_Rate']\n",
    "g7 = loans.loc[loans['Loan_Purpose']=='major_purchase']['Interest_Rate']\n",
    "g8 = loans.loc[loans['Loan_Purpose']=='medical']['Interest_Rate']\n",
    "g9 = loans.loc[loans['Loan_Purpose']=='moving']['Interest_Rate']\n",
    "g10 = loans.loc[loans['Loan_Purpose']=='other']['Interest_Rate']\n",
    "g11 = loans.loc[loans['Loan_Purpose']=='renewable_energy']['Interest_Rate']\n",
    "g12 = loans.loc[loans['Loan_Purpose']=='small_business']['Interest_Rate']\n",
    "g13 = loans.loc[loans['Loan_Purpose']=='vacation']['Interest_Rate']\n",
    "g14 = loans.loc[loans['Loan_Purpose']=='wedding']['Interest_Rate']\n"
   ]
  },
  {
   "cell_type": "code",
   "execution_count": 222,
   "id": "2e9a980a",
   "metadata": {},
   "outputs": [
    {
     "data": {
      "text/plain": [
       "F_onewayResult(statistic=7.330838185919651, pvalue=2.7646672581411367e-14)"
      ]
     },
     "execution_count": 222,
     "metadata": {},
     "output_type": "execute_result"
    }
   ],
   "source": [
    "stats.f_oneway(g1,g2,g3,g4,g5,g6,g7,g8,g9,g10,g11,g12,g13,g14)"
   ]
  },
  {
   "cell_type": "code",
   "execution_count": null,
   "id": "5ffd61bb",
   "metadata": {},
   "outputs": [],
   "source": [
    "# pvalue=2.76 > 0.05, At 95% confidene level we reject null hypothesis\n",
    "\n",
    "# Therefore, Interest rate varies for different purpose of loans"
   ]
  },
  {
   "cell_type": "raw",
   "id": "b277f9a5",
   "metadata": {},
   "source": [
    "#1. d. checking relationship\n",
    "\n",
    "#H0: There is no relationship between FICO scores and Home Ownership\n",
    "#H1: There is a relationship between FICO scores and Home Ownership"
   ]
  },
  {
   "cell_type": "code",
   "execution_count": 223,
   "id": "3d77ff95",
   "metadata": {},
   "outputs": [
    {
     "data": {
      "text/plain": [
       "Amount_Requested                  float64\n",
       "Amount_Funded_By_Investors        float64\n",
       "Interest_Rate                     float64\n",
       "Loan_Length                         int64\n",
       "Loan_Purpose                       object\n",
       "Debt_To_Income_Ratio               object\n",
       "State                              object\n",
       "Home_Ownership                     object\n",
       "Monthly_Income                    float64\n",
       "FICO_Range                         object\n",
       "Open_CREDIT_Lines                 float64\n",
       "Revolving_CREDIT_Balance          float64\n",
       "Inquiries_in_the_Last_6_Months    float64\n",
       "Employment_Length                  object\n",
       "dtype: object"
      ]
     },
     "execution_count": 223,
     "metadata": {},
     "output_type": "execute_result"
    }
   ],
   "source": [
    "loans.dtypes"
   ]
  },
  {
   "cell_type": "code",
   "execution_count": 226,
   "id": "a47a3618",
   "metadata": {},
   "outputs": [
    {
     "data": {
      "text/html": [
       "<div>\n",
       "<style scoped>\n",
       "    .dataframe tbody tr th:only-of-type {\n",
       "        vertical-align: middle;\n",
       "    }\n",
       "\n",
       "    .dataframe tbody tr th {\n",
       "        vertical-align: top;\n",
       "    }\n",
       "\n",
       "    .dataframe thead th {\n",
       "        text-align: right;\n",
       "    }\n",
       "</style>\n",
       "<table border=\"1\" class=\"dataframe\">\n",
       "  <thead>\n",
       "    <tr style=\"text-align: right;\">\n",
       "      <th>Home_Ownership</th>\n",
       "      <th>MORTGAGE</th>\n",
       "      <th>OTHER</th>\n",
       "      <th>OWN</th>\n",
       "      <th>RENT</th>\n",
       "      <th>All</th>\n",
       "    </tr>\n",
       "    <tr>\n",
       "      <th>FICO_Range</th>\n",
       "      <th></th>\n",
       "      <th></th>\n",
       "      <th></th>\n",
       "      <th></th>\n",
       "      <th></th>\n",
       "    </tr>\n",
       "  </thead>\n",
       "  <tbody>\n",
       "    <tr>\n",
       "      <th>640-644</th>\n",
       "      <td>0</td>\n",
       "      <td>0</td>\n",
       "      <td>1</td>\n",
       "      <td>4</td>\n",
       "      <td>5</td>\n",
       "    </tr>\n",
       "    <tr>\n",
       "      <th>645-649</th>\n",
       "      <td>1</td>\n",
       "      <td>0</td>\n",
       "      <td>0</td>\n",
       "      <td>2</td>\n",
       "      <td>3</td>\n",
       "    </tr>\n",
       "    <tr>\n",
       "      <th>650-654</th>\n",
       "      <td>1</td>\n",
       "      <td>0</td>\n",
       "      <td>0</td>\n",
       "      <td>0</td>\n",
       "      <td>1</td>\n",
       "    </tr>\n",
       "    <tr>\n",
       "      <th>655-659</th>\n",
       "      <td>0</td>\n",
       "      <td>1</td>\n",
       "      <td>0</td>\n",
       "      <td>3</td>\n",
       "      <td>4</td>\n",
       "    </tr>\n",
       "    <tr>\n",
       "      <th>660-664</th>\n",
       "      <td>40</td>\n",
       "      <td>0</td>\n",
       "      <td>14</td>\n",
       "      <td>64</td>\n",
       "      <td>118</td>\n",
       "    </tr>\n",
       "    <tr>\n",
       "      <th>665-669</th>\n",
       "      <td>52</td>\n",
       "      <td>0</td>\n",
       "      <td>17</td>\n",
       "      <td>69</td>\n",
       "      <td>138</td>\n",
       "    </tr>\n",
       "    <tr>\n",
       "      <th>670-674</th>\n",
       "      <td>66</td>\n",
       "      <td>1</td>\n",
       "      <td>13</td>\n",
       "      <td>87</td>\n",
       "      <td>167</td>\n",
       "    </tr>\n",
       "    <tr>\n",
       "      <th>675-679</th>\n",
       "      <td>78</td>\n",
       "      <td>1</td>\n",
       "      <td>10</td>\n",
       "      <td>72</td>\n",
       "      <td>161</td>\n",
       "    </tr>\n",
       "    <tr>\n",
       "      <th>680-684</th>\n",
       "      <td>55</td>\n",
       "      <td>2</td>\n",
       "      <td>9</td>\n",
       "      <td>91</td>\n",
       "      <td>157</td>\n",
       "    </tr>\n",
       "    <tr>\n",
       "      <th>685-689</th>\n",
       "      <td>58</td>\n",
       "      <td>0</td>\n",
       "      <td>10</td>\n",
       "      <td>60</td>\n",
       "      <td>128</td>\n",
       "    </tr>\n",
       "    <tr>\n",
       "      <th>690-694</th>\n",
       "      <td>52</td>\n",
       "      <td>0</td>\n",
       "      <td>9</td>\n",
       "      <td>74</td>\n",
       "      <td>135</td>\n",
       "    </tr>\n",
       "    <tr>\n",
       "      <th>695-699</th>\n",
       "      <td>64</td>\n",
       "      <td>0</td>\n",
       "      <td>10</td>\n",
       "      <td>72</td>\n",
       "      <td>146</td>\n",
       "    </tr>\n",
       "    <tr>\n",
       "      <th>700-704</th>\n",
       "      <td>57</td>\n",
       "      <td>0</td>\n",
       "      <td>10</td>\n",
       "      <td>57</td>\n",
       "      <td>124</td>\n",
       "    </tr>\n",
       "    <tr>\n",
       "      <th>705-709</th>\n",
       "      <td>65</td>\n",
       "      <td>0</td>\n",
       "      <td>12</td>\n",
       "      <td>54</td>\n",
       "      <td>131</td>\n",
       "    </tr>\n",
       "    <tr>\n",
       "      <th>710-714</th>\n",
       "      <td>52</td>\n",
       "      <td>0</td>\n",
       "      <td>10</td>\n",
       "      <td>45</td>\n",
       "      <td>107</td>\n",
       "    </tr>\n",
       "    <tr>\n",
       "      <th>715-719</th>\n",
       "      <td>45</td>\n",
       "      <td>0</td>\n",
       "      <td>2</td>\n",
       "      <td>45</td>\n",
       "      <td>92</td>\n",
       "    </tr>\n",
       "    <tr>\n",
       "      <th>720-724</th>\n",
       "      <td>46</td>\n",
       "      <td>0</td>\n",
       "      <td>0</td>\n",
       "      <td>62</td>\n",
       "      <td>108</td>\n",
       "    </tr>\n",
       "    <tr>\n",
       "      <th>725-729</th>\n",
       "      <td>45</td>\n",
       "      <td>0</td>\n",
       "      <td>5</td>\n",
       "      <td>41</td>\n",
       "      <td>91</td>\n",
       "    </tr>\n",
       "    <tr>\n",
       "      <th>730-734</th>\n",
       "      <td>46</td>\n",
       "      <td>0</td>\n",
       "      <td>7</td>\n",
       "      <td>41</td>\n",
       "      <td>94</td>\n",
       "    </tr>\n",
       "    <tr>\n",
       "      <th>735-739</th>\n",
       "      <td>30</td>\n",
       "      <td>0</td>\n",
       "      <td>6</td>\n",
       "      <td>29</td>\n",
       "      <td>65</td>\n",
       "    </tr>\n",
       "    <tr>\n",
       "      <th>740-744</th>\n",
       "      <td>24</td>\n",
       "      <td>0</td>\n",
       "      <td>4</td>\n",
       "      <td>22</td>\n",
       "      <td>50</td>\n",
       "    </tr>\n",
       "    <tr>\n",
       "      <th>745-749</th>\n",
       "      <td>26</td>\n",
       "      <td>0</td>\n",
       "      <td>7</td>\n",
       "      <td>21</td>\n",
       "      <td>54</td>\n",
       "    </tr>\n",
       "    <tr>\n",
       "      <th>750-754</th>\n",
       "      <td>32</td>\n",
       "      <td>0</td>\n",
       "      <td>4</td>\n",
       "      <td>24</td>\n",
       "      <td>60</td>\n",
       "    </tr>\n",
       "    <tr>\n",
       "      <th>755-759</th>\n",
       "      <td>27</td>\n",
       "      <td>0</td>\n",
       "      <td>5</td>\n",
       "      <td>12</td>\n",
       "      <td>44</td>\n",
       "    </tr>\n",
       "    <tr>\n",
       "      <th>760-764</th>\n",
       "      <td>27</td>\n",
       "      <td>0</td>\n",
       "      <td>4</td>\n",
       "      <td>14</td>\n",
       "      <td>45</td>\n",
       "    </tr>\n",
       "    <tr>\n",
       "      <th>765-769</th>\n",
       "      <td>18</td>\n",
       "      <td>0</td>\n",
       "      <td>3</td>\n",
       "      <td>11</td>\n",
       "      <td>32</td>\n",
       "    </tr>\n",
       "    <tr>\n",
       "      <th>770-774</th>\n",
       "      <td>12</td>\n",
       "      <td>0</td>\n",
       "      <td>1</td>\n",
       "      <td>4</td>\n",
       "      <td>17</td>\n",
       "    </tr>\n",
       "    <tr>\n",
       "      <th>775-779</th>\n",
       "      <td>13</td>\n",
       "      <td>0</td>\n",
       "      <td>3</td>\n",
       "      <td>6</td>\n",
       "      <td>22</td>\n",
       "    </tr>\n",
       "    <tr>\n",
       "      <th>780-784</th>\n",
       "      <td>19</td>\n",
       "      <td>0</td>\n",
       "      <td>3</td>\n",
       "      <td>4</td>\n",
       "      <td>26</td>\n",
       "    </tr>\n",
       "    <tr>\n",
       "      <th>785-789</th>\n",
       "      <td>12</td>\n",
       "      <td>0</td>\n",
       "      <td>1</td>\n",
       "      <td>4</td>\n",
       "      <td>17</td>\n",
       "    </tr>\n",
       "    <tr>\n",
       "      <th>790-794</th>\n",
       "      <td>15</td>\n",
       "      <td>0</td>\n",
       "      <td>1</td>\n",
       "      <td>4</td>\n",
       "      <td>20</td>\n",
       "    </tr>\n",
       "    <tr>\n",
       "      <th>795-799</th>\n",
       "      <td>7</td>\n",
       "      <td>0</td>\n",
       "      <td>1</td>\n",
       "      <td>5</td>\n",
       "      <td>13</td>\n",
       "    </tr>\n",
       "    <tr>\n",
       "      <th>800-804</th>\n",
       "      <td>7</td>\n",
       "      <td>0</td>\n",
       "      <td>3</td>\n",
       "      <td>2</td>\n",
       "      <td>12</td>\n",
       "    </tr>\n",
       "    <tr>\n",
       "      <th>805-809</th>\n",
       "      <td>6</td>\n",
       "      <td>0</td>\n",
       "      <td>2</td>\n",
       "      <td>3</td>\n",
       "      <td>11</td>\n",
       "    </tr>\n",
       "    <tr>\n",
       "      <th>810-814</th>\n",
       "      <td>5</td>\n",
       "      <td>0</td>\n",
       "      <td>1</td>\n",
       "      <td>2</td>\n",
       "      <td>8</td>\n",
       "    </tr>\n",
       "    <tr>\n",
       "      <th>815-819</th>\n",
       "      <td>5</td>\n",
       "      <td>0</td>\n",
       "      <td>0</td>\n",
       "      <td>0</td>\n",
       "      <td>5</td>\n",
       "    </tr>\n",
       "    <tr>\n",
       "      <th>820-824</th>\n",
       "      <td>0</td>\n",
       "      <td>0</td>\n",
       "      <td>1</td>\n",
       "      <td>0</td>\n",
       "      <td>1</td>\n",
       "    </tr>\n",
       "    <tr>\n",
       "      <th>830-834</th>\n",
       "      <td>1</td>\n",
       "      <td>0</td>\n",
       "      <td>0</td>\n",
       "      <td>0</td>\n",
       "      <td>1</td>\n",
       "    </tr>\n",
       "    <tr>\n",
       "      <th>All</th>\n",
       "      <td>1109</td>\n",
       "      <td>5</td>\n",
       "      <td>189</td>\n",
       "      <td>1110</td>\n",
       "      <td>2413</td>\n",
       "    </tr>\n",
       "  </tbody>\n",
       "</table>\n",
       "</div>"
      ],
      "text/plain": [
       "Home_Ownership  MORTGAGE  OTHER  OWN  RENT   All\n",
       "FICO_Range                                      \n",
       "640-644                0      0    1     4     5\n",
       "645-649                1      0    0     2     3\n",
       "650-654                1      0    0     0     1\n",
       "655-659                0      1    0     3     4\n",
       "660-664               40      0   14    64   118\n",
       "665-669               52      0   17    69   138\n",
       "670-674               66      1   13    87   167\n",
       "675-679               78      1   10    72   161\n",
       "680-684               55      2    9    91   157\n",
       "685-689               58      0   10    60   128\n",
       "690-694               52      0    9    74   135\n",
       "695-699               64      0   10    72   146\n",
       "700-704               57      0   10    57   124\n",
       "705-709               65      0   12    54   131\n",
       "710-714               52      0   10    45   107\n",
       "715-719               45      0    2    45    92\n",
       "720-724               46      0    0    62   108\n",
       "725-729               45      0    5    41    91\n",
       "730-734               46      0    7    41    94\n",
       "735-739               30      0    6    29    65\n",
       "740-744               24      0    4    22    50\n",
       "745-749               26      0    7    21    54\n",
       "750-754               32      0    4    24    60\n",
       "755-759               27      0    5    12    44\n",
       "760-764               27      0    4    14    45\n",
       "765-769               18      0    3    11    32\n",
       "770-774               12      0    1     4    17\n",
       "775-779               13      0    3     6    22\n",
       "780-784               19      0    3     4    26\n",
       "785-789               12      0    1     4    17\n",
       "790-794               15      0    1     4    20\n",
       "795-799                7      0    1     5    13\n",
       "800-804                7      0    3     2    12\n",
       "805-809                6      0    2     3    11\n",
       "810-814                5      0    1     2     8\n",
       "815-819                5      0    0     0     5\n",
       "820-824                0      0    1     0     1\n",
       "830-834                1      0    0     0     1\n",
       "All                 1109      5  189  1110  2413"
      ]
     },
     "execution_count": 226,
     "metadata": {},
     "output_type": "execute_result"
    }
   ],
   "source": [
    "# using Crosstabs\n",
    "CrossTable = pd.crosstab(loans['FICO_Range'],loans['Home_Ownership'],margins=True)\n",
    "CrossTable"
   ]
  },
  {
   "cell_type": "code",
   "execution_count": 227,
   "id": "49a74847",
   "metadata": {},
   "outputs": [
    {
     "data": {
      "text/plain": [
       "(269.7881202757334,\n",
       " 1.3041014985761142e-08,\n",
       " 152,\n",
       " array([[2.29796933e+00, 1.03605470e-02, 3.91628678e-01, 2.30004144e+00,\n",
       "         5.00000000e+00],\n",
       "        [1.37878160e+00, 6.21632822e-03, 2.34977207e-01, 1.38002487e+00,\n",
       "         3.00000000e+00],\n",
       "        [4.59593867e-01, 2.07210941e-03, 7.83257356e-02, 4.60008288e-01,\n",
       "         1.00000000e+00],\n",
       "        [1.83837547e+00, 8.28843763e-03, 3.13302942e-01, 1.84003315e+00,\n",
       "         4.00000000e+00],\n",
       "        [5.42320763e+01, 2.44508910e-01, 9.24243680e+00, 5.42809780e+01,\n",
       "         1.18000000e+02],\n",
       "        [6.34239536e+01, 2.85951098e-01, 1.08089515e+01, 6.34811438e+01,\n",
       "         1.38000000e+02],\n",
       "        [7.67521757e+01, 3.46042271e-01, 1.30803978e+01, 7.68213842e+01,\n",
       "         1.67000000e+02],\n",
       "        [7.39946125e+01, 3.33609615e-01, 1.26104434e+01, 7.40613344e+01,\n",
       "         1.61000000e+02],\n",
       "        [7.21562370e+01, 3.25321177e-01, 1.22971405e+01, 7.22213013e+01,\n",
       "         1.57000000e+02],\n",
       "        [5.88280149e+01, 2.65230004e-01, 1.00256942e+01, 5.88810609e+01,\n",
       "         1.28000000e+02],\n",
       "        [6.20451720e+01, 2.79734770e-01, 1.05739743e+01, 6.21011189e+01,\n",
       "         1.35000000e+02],\n",
       "        [6.71007045e+01, 3.02527973e-01, 1.14355574e+01, 6.71612101e+01,\n",
       "         1.46000000e+02],\n",
       "        [5.69896395e+01, 2.56941567e-01, 9.71239121e+00, 5.70410278e+01,\n",
       "         1.24000000e+02],\n",
       "        [6.02067965e+01, 2.71446332e-01, 1.02606714e+01, 6.02610858e+01,\n",
       "         1.31000000e+02],\n",
       "        [4.91765437e+01, 2.21715707e-01, 8.38085371e+00, 4.92208869e+01,\n",
       "         1.07000000e+02],\n",
       "        [4.22826357e+01, 1.90634065e-01, 7.20596768e+00, 4.23207625e+01,\n",
       "         9.20000000e+01],\n",
       "        [4.96361376e+01, 2.23787816e-01, 8.45917944e+00, 4.96808952e+01,\n",
       "         1.08000000e+02],\n",
       "        [4.18230419e+01, 1.88561956e-01, 7.12764194e+00, 4.18607542e+01,\n",
       "         9.10000000e+01],\n",
       "        [4.32018235e+01, 1.94778284e-01, 7.36261915e+00, 4.32407791e+01,\n",
       "         9.40000000e+01],\n",
       "        [2.98736013e+01, 1.34687111e-01, 5.09117281e+00, 2.99005387e+01,\n",
       "         6.50000000e+01],\n",
       "        [2.29796933e+01, 1.03605470e-01, 3.91628678e+00, 2.30004144e+01,\n",
       "         5.00000000e+01],\n",
       "        [2.48180688e+01, 1.11893908e-01, 4.22958972e+00, 2.48404476e+01,\n",
       "         5.40000000e+01],\n",
       "        [2.75756320e+01, 1.24326564e-01, 4.69954414e+00, 2.76004973e+01,\n",
       "         6.00000000e+01],\n",
       "        [2.02221301e+01, 9.11728139e-02, 3.44633237e+00, 2.02403647e+01,\n",
       "         4.40000000e+01],\n",
       "        [2.06817240e+01, 9.32449233e-02, 3.52465810e+00, 2.07003730e+01,\n",
       "         4.50000000e+01],\n",
       "        [1.47070037e+01, 6.63075010e-02, 2.50642354e+00, 1.47202652e+01,\n",
       "         3.20000000e+01],\n",
       "        [7.81309573e+00, 3.52258599e-02, 1.33153751e+00, 7.82014090e+00,\n",
       "         1.70000000e+01],\n",
       "        [1.01110651e+01, 4.55864070e-02, 1.72316618e+00, 1.01201823e+01,\n",
       "         2.20000000e+01],\n",
       "        [1.19494405e+01, 5.38748446e-02, 2.03646913e+00, 1.19602155e+01,\n",
       "         2.60000000e+01],\n",
       "        [7.81309573e+00, 3.52258599e-02, 1.33153751e+00, 7.82014090e+00,\n",
       "         1.70000000e+01],\n",
       "        [9.19187733e+00, 4.14421881e-02, 1.56651471e+00, 9.20016577e+00,\n",
       "         2.00000000e+01],\n",
       "        [5.97472027e+00, 2.69374223e-02, 1.01823456e+00, 5.98010775e+00,\n",
       "         1.30000000e+01],\n",
       "        [5.51512640e+00, 2.48653129e-02, 9.39908827e-01, 5.52009946e+00,\n",
       "         1.20000000e+01],\n",
       "        [5.05553253e+00, 2.27932035e-02, 8.61583092e-01, 5.06009117e+00,\n",
       "         1.10000000e+01],\n",
       "        [3.67675093e+00, 1.65768753e-02, 6.26605885e-01, 3.68006631e+00,\n",
       "         8.00000000e+00],\n",
       "        [2.29796933e+00, 1.03605470e-02, 3.91628678e-01, 2.30004144e+00,\n",
       "         5.00000000e+00],\n",
       "        [4.59593867e-01, 2.07210941e-03, 7.83257356e-02, 4.60008288e-01,\n",
       "         1.00000000e+00],\n",
       "        [4.59593867e-01, 2.07210941e-03, 7.83257356e-02, 4.60008288e-01,\n",
       "         1.00000000e+00],\n",
       "        [1.10900000e+03, 5.00000000e+00, 1.89000000e+02, 1.11000000e+03,\n",
       "         2.41300000e+03]]))"
      ]
     },
     "execution_count": 227,
     "metadata": {},
     "output_type": "execute_result"
    }
   ],
   "source": [
    "stats.chi2_contingency(CrossTable)"
   ]
  },
  {
   "cell_type": "raw",
   "id": "bc7b05b6",
   "metadata": {},
   "source": [
    "# pvalue = 1.3041014985761142e-08 < 0.05 , \n",
    "# At 95% confidence level we reject null hyothesis and accept aternative hypothesis\n",
    "# Therefore, There is a relationship between FICO scores and Home Ownership"
   ]
  },
  {
   "cell_type": "markdown",
   "id": "c678ce9a",
   "metadata": {},
   "source": [
    "## Q-2"
   ]
  },
  {
   "cell_type": "raw",
   "id": "6d82505e",
   "metadata": {},
   "source": [
    "# Ho: The avg price quotes provided by Mary and Barry is same i.e., no difference\n",
    "# H1: The avg price quotes provided by Mary and Barry is different i.e there is a difference"
   ]
  },
  {
   "cell_type": "code",
   "execution_count": 2,
   "id": "863917b1",
   "metadata": {},
   "outputs": [],
   "source": [
    "price = pd.read_csv('Price_Quotes.csv')"
   ]
  },
  {
   "cell_type": "code",
   "execution_count": 3,
   "id": "4e85743e",
   "metadata": {},
   "outputs": [
    {
     "data": {
      "text/html": [
       "<div>\n",
       "<style scoped>\n",
       "    .dataframe tbody tr th:only-of-type {\n",
       "        vertical-align: middle;\n",
       "    }\n",
       "\n",
       "    .dataframe tbody tr th {\n",
       "        vertical-align: top;\n",
       "    }\n",
       "\n",
       "    .dataframe thead th {\n",
       "        text-align: right;\n",
       "    }\n",
       "</style>\n",
       "<table border=\"1\" class=\"dataframe\">\n",
       "  <thead>\n",
       "    <tr style=\"text-align: right;\">\n",
       "      <th></th>\n",
       "      <th>Order_Number</th>\n",
       "      <th>Barry_Price</th>\n",
       "      <th>Mary_Price</th>\n",
       "    </tr>\n",
       "  </thead>\n",
       "  <tbody>\n",
       "    <tr>\n",
       "      <th>0</th>\n",
       "      <td>1</td>\n",
       "      <td>126</td>\n",
       "      <td>114</td>\n",
       "    </tr>\n",
       "    <tr>\n",
       "      <th>1</th>\n",
       "      <td>2</td>\n",
       "      <td>110</td>\n",
       "      <td>118</td>\n",
       "    </tr>\n",
       "    <tr>\n",
       "      <th>2</th>\n",
       "      <td>3</td>\n",
       "      <td>138</td>\n",
       "      <td>114</td>\n",
       "    </tr>\n",
       "    <tr>\n",
       "      <th>3</th>\n",
       "      <td>4</td>\n",
       "      <td>142</td>\n",
       "      <td>111</td>\n",
       "    </tr>\n",
       "    <tr>\n",
       "      <th>4</th>\n",
       "      <td>5</td>\n",
       "      <td>146</td>\n",
       "      <td>129</td>\n",
       "    </tr>\n",
       "    <tr>\n",
       "      <th>5</th>\n",
       "      <td>6</td>\n",
       "      <td>136</td>\n",
       "      <td>119</td>\n",
       "    </tr>\n",
       "    <tr>\n",
       "      <th>6</th>\n",
       "      <td>7</td>\n",
       "      <td>94</td>\n",
       "      <td>97</td>\n",
       "    </tr>\n",
       "    <tr>\n",
       "      <th>7</th>\n",
       "      <td>8</td>\n",
       "      <td>103</td>\n",
       "      <td>104</td>\n",
       "    </tr>\n",
       "    <tr>\n",
       "      <th>8</th>\n",
       "      <td>9</td>\n",
       "      <td>140</td>\n",
       "      <td>127</td>\n",
       "    </tr>\n",
       "    <tr>\n",
       "      <th>9</th>\n",
       "      <td>10</td>\n",
       "      <td>152</td>\n",
       "      <td>133</td>\n",
       "    </tr>\n",
       "    <tr>\n",
       "      <th>10</th>\n",
       "      <td>11</td>\n",
       "      <td>108</td>\n",
       "      <td>103</td>\n",
       "    </tr>\n",
       "    <tr>\n",
       "      <th>11</th>\n",
       "      <td>12</td>\n",
       "      <td>97</td>\n",
       "      <td>108</td>\n",
       "    </tr>\n",
       "  </tbody>\n",
       "</table>\n",
       "</div>"
      ],
      "text/plain": [
       "    Order_Number  Barry_Price  Mary_Price\n",
       "0              1          126         114\n",
       "1              2          110         118\n",
       "2              3          138         114\n",
       "3              4          142         111\n",
       "4              5          146         129\n",
       "5              6          136         119\n",
       "6              7           94          97\n",
       "7              8          103         104\n",
       "8              9          140         127\n",
       "9             10          152         133\n",
       "10            11          108         103\n",
       "11            12           97         108"
      ]
     },
     "execution_count": 3,
     "metadata": {},
     "output_type": "execute_result"
    }
   ],
   "source": [
    "price"
   ]
  },
  {
   "cell_type": "code",
   "execution_count": 4,
   "id": "bbce7d2d",
   "metadata": {},
   "outputs": [
    {
     "data": {
      "text/plain": [
       "124.33333333333333"
      ]
     },
     "execution_count": 4,
     "metadata": {},
     "output_type": "execute_result"
    }
   ],
   "source": [
    "price.Barry_Price.mean()"
   ]
  },
  {
   "cell_type": "code",
   "execution_count": 5,
   "id": "3449a463",
   "metadata": {},
   "outputs": [
    {
     "data": {
      "text/plain": [
       "114.75"
      ]
     },
     "execution_count": 5,
     "metadata": {},
     "output_type": "execute_result"
    }
   ],
   "source": [
    "price.Mary_Price.mean()"
   ]
  },
  {
   "cell_type": "code",
   "execution_count": 6,
   "id": "795380f6",
   "metadata": {},
   "outputs": [
    {
     "data": {
      "text/plain": [
       "20.698411591816473"
      ]
     },
     "execution_count": 6,
     "metadata": {},
     "output_type": "execute_result"
    }
   ],
   "source": [
    "price.Barry_Price.std()"
   ]
  },
  {
   "cell_type": "code",
   "execution_count": 7,
   "id": "e3f5f78b",
   "metadata": {},
   "outputs": [
    {
     "data": {
      "text/plain": [
       "11.054616477044577"
      ]
     },
     "execution_count": 7,
     "metadata": {},
     "output_type": "execute_result"
    }
   ],
   "source": [
    "price.Mary_Price.std()"
   ]
  },
  {
   "cell_type": "code",
   "execution_count": 8,
   "id": "473d97ea",
   "metadata": {},
   "outputs": [
    {
     "data": {
      "text/plain": [
       "12"
      ]
     },
     "execution_count": 8,
     "metadata": {},
     "output_type": "execute_result"
    }
   ],
   "source": [
    "len(price)"
   ]
  },
  {
   "cell_type": "code",
   "execution_count": 9,
   "id": "765083b3",
   "metadata": {},
   "outputs": [
    {
     "data": {
      "text/plain": [
       "5.975116752166456"
      ]
     },
     "execution_count": 9,
     "metadata": {},
     "output_type": "execute_result"
    }
   ],
   "source": [
    "SE_Barry = price.Barry_Price.std() / np.sqrt(len(price))\n",
    "SE_Barry"
   ]
  },
  {
   "cell_type": "code",
   "execution_count": 10,
   "id": "351bce49",
   "metadata": {},
   "outputs": [
    {
     "data": {
      "text/plain": [
       "3.19119289940488"
      ]
     },
     "execution_count": 10,
     "metadata": {},
     "output_type": "execute_result"
    }
   ],
   "source": [
    "SE_Mary = price.Mary_Price.std() / np.sqrt(len(price))\n",
    "SE_Mary"
   ]
  },
  {
   "cell_type": "code",
   "execution_count": 11,
   "id": "b236bad2",
   "metadata": {},
   "outputs": [
    {
     "data": {
      "text/plain": [
       "Ttest_indResult(statistic=-1.4147436739281787, pvalue=0.17114226132118285)"
      ]
     },
     "execution_count": 11,
     "metadata": {},
     "output_type": "execute_result"
    }
   ],
   "source": [
    "# Paired t test\n",
    "stats.ttest_ind(price.Mary_Price,price.Barry_Price)"
   ]
  },
  {
   "cell_type": "code",
   "execution_count": 48,
   "id": "11672569",
   "metadata": {},
   "outputs": [],
   "source": [
    "#  The significance pvalue=0.1711422 > 0.05 at 95% of confidence level\n",
    "#  We do not reject H0\n",
    "# The avg price quotes provided by Mary and Barry is same\n",
    "# There is no difference in their price quotes"
   ]
  },
  {
   "cell_type": "markdown",
   "id": "8011960d",
   "metadata": {},
   "source": [
    "## Q-3"
   ]
  },
  {
   "cell_type": "raw",
   "id": "22f9ee19",
   "metadata": {},
   "source": [
    "# H0: The reengineering effort did not change the critical incidence rate\n",
    "# H1:The reengineering effort changed the critical incidence rate\n"
   ]
  },
  {
   "cell_type": "code",
   "execution_count": 12,
   "id": "7451a829",
   "metadata": {},
   "outputs": [
    {
     "data": {
      "text/html": [
       "<div>\n",
       "<style scoped>\n",
       "    .dataframe tbody tr th:only-of-type {\n",
       "        vertical-align: middle;\n",
       "    }\n",
       "\n",
       "    .dataframe tbody tr th {\n",
       "        vertical-align: top;\n",
       "    }\n",
       "\n",
       "    .dataframe thead th {\n",
       "        text-align: right;\n",
       "    }\n",
       "</style>\n",
       "<table border=\"1\" class=\"dataframe\">\n",
       "  <thead>\n",
       "    <tr style=\"text-align: right;\">\n",
       "      <th></th>\n",
       "      <th>Month</th>\n",
       "      <th>Reengineer</th>\n",
       "      <th>Employee_Turnover</th>\n",
       "      <th>VAR4</th>\n",
       "      <th>VAR5</th>\n",
       "    </tr>\n",
       "  </thead>\n",
       "  <tbody>\n",
       "    <tr>\n",
       "      <th>0</th>\n",
       "      <td>1</td>\n",
       "      <td>Prior</td>\n",
       "      <td>0.0000</td>\n",
       "      <td>24.390244</td>\n",
       "      <td>42.682927</td>\n",
       "    </tr>\n",
       "    <tr>\n",
       "      <th>1</th>\n",
       "      <td>2</td>\n",
       "      <td>Prior</td>\n",
       "      <td>6.0606</td>\n",
       "      <td>19.354839</td>\n",
       "      <td>25.806452</td>\n",
       "    </tr>\n",
       "    <tr>\n",
       "      <th>2</th>\n",
       "      <td>3</td>\n",
       "      <td>Prior</td>\n",
       "      <td>12.1212</td>\n",
       "      <td>35.087719</td>\n",
       "      <td>146.198830</td>\n",
       "    </tr>\n",
       "    <tr>\n",
       "      <th>3</th>\n",
       "      <td>4</td>\n",
       "      <td>Prior</td>\n",
       "      <td>3.3333</td>\n",
       "      <td>18.404908</td>\n",
       "      <td>110.429448</td>\n",
       "    </tr>\n",
       "    <tr>\n",
       "      <th>4</th>\n",
       "      <td>5</td>\n",
       "      <td>Prior</td>\n",
       "      <td>12.9032</td>\n",
       "      <td>17.964072</td>\n",
       "      <td>23.952096</td>\n",
       "    </tr>\n",
       "    <tr>\n",
       "      <th>5</th>\n",
       "      <td>6</td>\n",
       "      <td>Prior</td>\n",
       "      <td>9.6774</td>\n",
       "      <td>41.176471</td>\n",
       "      <td>47.058824</td>\n",
       "    </tr>\n",
       "    <tr>\n",
       "      <th>6</th>\n",
       "      <td>7</td>\n",
       "      <td>Prior</td>\n",
       "      <td>11.7647</td>\n",
       "      <td>13.422819</td>\n",
       "      <td>0.000000</td>\n",
       "    </tr>\n",
       "    <tr>\n",
       "      <th>7</th>\n",
       "      <td>8</td>\n",
       "      <td>Prior</td>\n",
       "      <td>11.4286</td>\n",
       "      <td>31.250000</td>\n",
       "      <td>25.000000</td>\n",
       "    </tr>\n",
       "    <tr>\n",
       "      <th>8</th>\n",
       "      <td>9</td>\n",
       "      <td>Prior</td>\n",
       "      <td>23.0769</td>\n",
       "      <td>17.241379</td>\n",
       "      <td>132.183908</td>\n",
       "    </tr>\n",
       "    <tr>\n",
       "      <th>9</th>\n",
       "      <td>10</td>\n",
       "      <td>Prior</td>\n",
       "      <td>15.0000</td>\n",
       "      <td>16.574586</td>\n",
       "      <td>16.574586</td>\n",
       "    </tr>\n",
       "    <tr>\n",
       "      <th>10</th>\n",
       "      <td>11</td>\n",
       "      <td>Prior</td>\n",
       "      <td>10.0000</td>\n",
       "      <td>5.917160</td>\n",
       "      <td>88.757396</td>\n",
       "    </tr>\n",
       "    <tr>\n",
       "      <th>11</th>\n",
       "      <td>12</td>\n",
       "      <td>Prior</td>\n",
       "      <td>26.0870</td>\n",
       "      <td>21.164021</td>\n",
       "      <td>31.746032</td>\n",
       "    </tr>\n",
       "    <tr>\n",
       "      <th>12</th>\n",
       "      <td>13</td>\n",
       "      <td>Prior</td>\n",
       "      <td>11.1111</td>\n",
       "      <td>5.076142</td>\n",
       "      <td>10.152284</td>\n",
       "    </tr>\n",
       "    <tr>\n",
       "      <th>13</th>\n",
       "      <td>14</td>\n",
       "      <td>Post</td>\n",
       "      <td>26.6667</td>\n",
       "      <td>9.708738</td>\n",
       "      <td>29.126214</td>\n",
       "    </tr>\n",
       "    <tr>\n",
       "      <th>14</th>\n",
       "      <td>15</td>\n",
       "      <td>Post</td>\n",
       "      <td>17.9487</td>\n",
       "      <td>4.201681</td>\n",
       "      <td>21.008403</td>\n",
       "    </tr>\n",
       "    <tr>\n",
       "      <th>15</th>\n",
       "      <td>16</td>\n",
       "      <td>Post</td>\n",
       "      <td>12.8205</td>\n",
       "      <td>13.043478</td>\n",
       "      <td>34.782609</td>\n",
       "    </tr>\n",
       "    <tr>\n",
       "      <th>16</th>\n",
       "      <td>17</td>\n",
       "      <td>Post</td>\n",
       "      <td>15.7895</td>\n",
       "      <td>9.950249</td>\n",
       "      <td>19.900498</td>\n",
       "    </tr>\n",
       "    <tr>\n",
       "      <th>17</th>\n",
       "      <td>18</td>\n",
       "      <td>Post</td>\n",
       "      <td>0.0000</td>\n",
       "      <td>9.950249</td>\n",
       "      <td>9.950249</td>\n",
       "    </tr>\n",
       "    <tr>\n",
       "      <th>18</th>\n",
       "      <td>19</td>\n",
       "      <td>Post</td>\n",
       "      <td>30.7692</td>\n",
       "      <td>8.510638</td>\n",
       "      <td>25.531915</td>\n",
       "    </tr>\n",
       "    <tr>\n",
       "      <th>19</th>\n",
       "      <td>20</td>\n",
       "      <td>Post</td>\n",
       "      <td>26.8293</td>\n",
       "      <td>9.259259</td>\n",
       "      <td>23.148148</td>\n",
       "    </tr>\n",
       "  </tbody>\n",
       "</table>\n",
       "</div>"
      ],
      "text/plain": [
       "    Month Reengineer  Employee_Turnover       VAR4        VAR5\n",
       "0       1      Prior             0.0000  24.390244   42.682927\n",
       "1       2      Prior             6.0606  19.354839   25.806452\n",
       "2       3      Prior            12.1212  35.087719  146.198830\n",
       "3       4      Prior             3.3333  18.404908  110.429448\n",
       "4       5      Prior            12.9032  17.964072   23.952096\n",
       "5       6      Prior             9.6774  41.176471   47.058824\n",
       "6       7      Prior            11.7647  13.422819    0.000000\n",
       "7       8      Prior            11.4286  31.250000   25.000000\n",
       "8       9      Prior            23.0769  17.241379  132.183908\n",
       "9      10      Prior            15.0000  16.574586   16.574586\n",
       "10     11      Prior            10.0000   5.917160   88.757396\n",
       "11     12      Prior            26.0870  21.164021   31.746032\n",
       "12     13      Prior            11.1111   5.076142   10.152284\n",
       "13     14       Post            26.6667   9.708738   29.126214\n",
       "14     15       Post            17.9487   4.201681   21.008403\n",
       "15     16       Post            12.8205  13.043478   34.782609\n",
       "16     17       Post            15.7895   9.950249   19.900498\n",
       "17     18       Post             0.0000   9.950249    9.950249\n",
       "18     19       Post            30.7692   8.510638   25.531915\n",
       "19     20       Post            26.8293   9.259259   23.148148"
      ]
     },
     "execution_count": 12,
     "metadata": {},
     "output_type": "execute_result"
    }
   ],
   "source": [
    "treatment = pd.read_csv('Treatment_Facility.csv')\n",
    "treatment"
   ]
  },
  {
   "cell_type": "code",
   "execution_count": 13,
   "id": "9db358b9",
   "metadata": {},
   "outputs": [
    {
     "data": {
      "text/plain": [
       "0      0.0000\n",
       "1      6.0606\n",
       "2     12.1212\n",
       "3      3.3333\n",
       "4     12.9032\n",
       "5      9.6774\n",
       "6     11.7647\n",
       "7     11.4286\n",
       "8     23.0769\n",
       "9     15.0000\n",
       "10    10.0000\n",
       "11    26.0870\n",
       "12    11.1111\n",
       "Name: Employee_Turnover, dtype: float64"
      ]
     },
     "execution_count": 13,
     "metadata": {},
     "output_type": "execute_result"
    }
   ],
   "source": [
    "g1 = treatment.Employee_Turnover[treatment.Reengineer=='Prior']\n",
    "g1"
   ]
  },
  {
   "cell_type": "code",
   "execution_count": 14,
   "id": "4d12522b",
   "metadata": {},
   "outputs": [
    {
     "data": {
      "text/plain": [
       "13    26.6667\n",
       "14    17.9487\n",
       "15    12.8205\n",
       "16    15.7895\n",
       "17     0.0000\n",
       "18    30.7692\n",
       "19    26.8293\n",
       "Name: Employee_Turnover, dtype: float64"
      ]
     },
     "execution_count": 14,
     "metadata": {},
     "output_type": "execute_result"
    }
   ],
   "source": [
    "g2 = treatment.Employee_Turnover[treatment.Reengineer=='Post']\n",
    "g2"
   ]
  },
  {
   "cell_type": "code",
   "execution_count": 15,
   "id": "4309e428",
   "metadata": {},
   "outputs": [
    {
     "data": {
      "text/plain": [
       "11.735692307692307"
      ]
     },
     "execution_count": 15,
     "metadata": {},
     "output_type": "execute_result"
    }
   ],
   "source": [
    "g1.mean()"
   ]
  },
  {
   "cell_type": "code",
   "execution_count": 16,
   "id": "2c931ab2",
   "metadata": {},
   "outputs": [
    {
     "data": {
      "text/plain": [
       "18.68912857142857"
      ]
     },
     "execution_count": 16,
     "metadata": {},
     "output_type": "execute_result"
    }
   ],
   "source": [
    "g2.mean()"
   ]
  },
  {
   "cell_type": "code",
   "execution_count": 19,
   "id": "a09bb50c",
   "metadata": {},
   "outputs": [
    {
     "data": {
      "text/plain": [
       "Ttest_indResult(statistic=-1.770306704753604, pvalue=0.09361109345535304)"
      ]
     },
     "execution_count": 19,
     "metadata": {},
     "output_type": "execute_result"
    }
   ],
   "source": [
    "# comparing 2 independent samples using ttest_ind\n",
    "stats.ttest_ind(g1,g2)\n"
   ]
  },
  {
   "cell_type": "code",
   "execution_count": 21,
   "id": "d6282eb5",
   "metadata": {},
   "outputs": [
    {
     "data": {
      "text/plain": [
       "F_onewayResult(statistic=3.133985828895568, pvalue=0.09361109345535291)"
      ]
     },
     "execution_count": 21,
     "metadata": {},
     "output_type": "execute_result"
    }
   ],
   "source": [
    "#stats.f_oneway(g1,g2)"
   ]
  },
  {
   "cell_type": "code",
   "execution_count": 62,
   "id": "9443eb54",
   "metadata": {},
   "outputs": [],
   "source": [
    "# The significance pvalue=0.0936 >  0.05 at 95% of confidence level\n",
    "\n",
    "# We can't reject null hypothesis \n",
    "\n",
    "# Business:- The reengineering effort did not change the critical incidence rate\n",
    "# Therefore, we can say that the Critical Incidence rate is not improved."
   ]
  },
  {
   "cell_type": "markdown",
   "id": "25e25618",
   "metadata": {},
   "source": [
    "## Q-4"
   ]
  },
  {
   "cell_type": "raw",
   "id": "897ce6c5",
   "metadata": {},
   "source": [
    "# Hypothesis\n",
    "# H0: All prioritization working system jobs is same.\n",
    "# H1: Any one of the prioritization working system jobs is different."
   ]
  },
  {
   "cell_type": "code",
   "execution_count": 22,
   "id": "dad5ee49",
   "metadata": {},
   "outputs": [
    {
     "data": {
      "text/html": [
       "<div>\n",
       "<style scoped>\n",
       "    .dataframe tbody tr th:only-of-type {\n",
       "        vertical-align: middle;\n",
       "    }\n",
       "\n",
       "    .dataframe tbody tr th {\n",
       "        vertical-align: top;\n",
       "    }\n",
       "\n",
       "    .dataframe thead th {\n",
       "        text-align: right;\n",
       "    }\n",
       "</style>\n",
       "<table border=\"1\" class=\"dataframe\">\n",
       "  <thead>\n",
       "    <tr style=\"text-align: right;\">\n",
       "      <th></th>\n",
       "      <th>Days</th>\n",
       "      <th>Priority</th>\n",
       "    </tr>\n",
       "  </thead>\n",
       "  <tbody>\n",
       "    <tr>\n",
       "      <th>0</th>\n",
       "      <td>3.3</td>\n",
       "      <td>High</td>\n",
       "    </tr>\n",
       "    <tr>\n",
       "      <th>1</th>\n",
       "      <td>7.9</td>\n",
       "      <td>Medium</td>\n",
       "    </tr>\n",
       "    <tr>\n",
       "      <th>2</th>\n",
       "      <td>0.3</td>\n",
       "      <td>High</td>\n",
       "    </tr>\n",
       "    <tr>\n",
       "      <th>3</th>\n",
       "      <td>0.7</td>\n",
       "      <td>Medium</td>\n",
       "    </tr>\n",
       "    <tr>\n",
       "      <th>4</th>\n",
       "      <td>8.6</td>\n",
       "      <td>Medium</td>\n",
       "    </tr>\n",
       "    <tr>\n",
       "      <th>...</th>\n",
       "      <td>...</td>\n",
       "      <td>...</td>\n",
       "    </tr>\n",
       "    <tr>\n",
       "      <th>637</th>\n",
       "      <td>2.5</td>\n",
       "      <td>Low</td>\n",
       "    </tr>\n",
       "    <tr>\n",
       "      <th>638</th>\n",
       "      <td>0.3</td>\n",
       "      <td>High</td>\n",
       "    </tr>\n",
       "    <tr>\n",
       "      <th>639</th>\n",
       "      <td>0.3</td>\n",
       "      <td>Medium</td>\n",
       "    </tr>\n",
       "    <tr>\n",
       "      <th>640</th>\n",
       "      <td>1.3</td>\n",
       "      <td>Medium</td>\n",
       "    </tr>\n",
       "    <tr>\n",
       "      <th>641</th>\n",
       "      <td>0.5</td>\n",
       "      <td>High</td>\n",
       "    </tr>\n",
       "  </tbody>\n",
       "</table>\n",
       "<p>642 rows × 2 columns</p>\n",
       "</div>"
      ],
      "text/plain": [
       "     Days Priority\n",
       "0     3.3     High\n",
       "1     7.9   Medium\n",
       "2     0.3     High\n",
       "3     0.7   Medium\n",
       "4     8.6   Medium\n",
       "..    ...      ...\n",
       "637   2.5      Low\n",
       "638   0.3     High\n",
       "639   0.3   Medium\n",
       "640   1.3   Medium\n",
       "641   0.5     High\n",
       "\n",
       "[642 rows x 2 columns]"
      ]
     },
     "execution_count": 22,
     "metadata": {},
     "output_type": "execute_result"
    }
   ],
   "source": [
    "priority = pd.read_csv('Priority_Assessment.csv')\n",
    "priority"
   ]
  },
  {
   "cell_type": "code",
   "execution_count": 23,
   "id": "cdd64d19",
   "metadata": {},
   "outputs": [
    {
     "data": {
      "text/plain": [
       "0      3.3\n",
       "2      0.3\n",
       "5      0.3\n",
       "6      0.3\n",
       "7      0.3\n",
       "      ... \n",
       "631    0.3\n",
       "632    1.0\n",
       "635    0.1\n",
       "638    0.3\n",
       "641    0.5\n",
       "Name: Days, Length: 326, dtype: float64"
      ]
     },
     "execution_count": 23,
     "metadata": {},
     "output_type": "execute_result"
    }
   ],
   "source": [
    "high_g1 = priority.Days[priority.Priority == 'High']\n",
    "high_g1"
   ]
  },
  {
   "cell_type": "code",
   "execution_count": 24,
   "id": "b7ac109c",
   "metadata": {},
   "outputs": [
    {
     "data": {
      "text/plain": [
       "1       7.9\n",
       "3       0.7\n",
       "4       8.6\n",
       "9      15.9\n",
       "11      0.3\n",
       "       ... \n",
       "633     2.0\n",
       "634     2.5\n",
       "636     0.1\n",
       "639     0.3\n",
       "640     1.3\n",
       "Name: Days, Length: 249, dtype: float64"
      ]
     },
     "execution_count": 24,
     "metadata": {},
     "output_type": "execute_result"
    }
   ],
   "source": [
    "medium_g2 = priority.Days[priority.Priority == 'Medium']\n",
    "medium_g2"
   ]
  },
  {
   "cell_type": "code",
   "execution_count": 25,
   "id": "a0276c1f",
   "metadata": {},
   "outputs": [
    {
     "data": {
      "text/plain": [
       "14     23.2\n",
       "15      5.3\n",
       "20      4.6\n",
       "23      1.8\n",
       "26     17.0\n",
       "       ... \n",
       "609     0.5\n",
       "613     7.9\n",
       "620     0.3\n",
       "622     0.1\n",
       "637     2.5\n",
       "Name: Days, Length: 67, dtype: float64"
      ]
     },
     "execution_count": 25,
     "metadata": {},
     "output_type": "execute_result"
    }
   ],
   "source": [
    "low_g3 = priority.Days[priority.Priority == 'Low']\n",
    "low_g3"
   ]
  },
  {
   "cell_type": "code",
   "execution_count": 26,
   "id": "1884c34d",
   "metadata": {},
   "outputs": [
    {
     "data": {
      "text/plain": [
       "3.023619631901845"
      ]
     },
     "execution_count": 26,
     "metadata": {},
     "output_type": "execute_result"
    }
   ],
   "source": [
    "#mean of high, medium and low at sample level\n",
    "high_g1.mean()"
   ]
  },
  {
   "cell_type": "code",
   "execution_count": 27,
   "id": "b56db2b4",
   "metadata": {},
   "outputs": [
    {
     "data": {
      "text/plain": [
       "2.5000000000000004"
      ]
     },
     "execution_count": 27,
     "metadata": {},
     "output_type": "execute_result"
    }
   ],
   "source": [
    "medium_g2.mean()"
   ]
  },
  {
   "cell_type": "code",
   "execution_count": 28,
   "id": "11c8c534",
   "metadata": {},
   "outputs": [
    {
     "data": {
      "text/plain": [
       "4.228358208955225"
      ]
     },
     "execution_count": 28,
     "metadata": {},
     "output_type": "execute_result"
    }
   ],
   "source": [
    "low_g3.mean()"
   ]
  },
  {
   "cell_type": "code",
   "execution_count": 29,
   "id": "4db74441",
   "metadata": {},
   "outputs": [
    {
     "data": {
      "text/plain": [
       "F_onewayResult(statistic=1.812311010076072, pvalue=0.16411459461716182)"
      ]
     },
     "execution_count": 29,
     "metadata": {},
     "output_type": "execute_result"
    }
   ],
   "source": [
    "## Comparing more than two samples or groups so using f-test\n",
    "stats.f_oneway(high_g1,medium_g2,low_g3)"
   ]
  },
  {
   "cell_type": "code",
   "execution_count": 80,
   "id": "3b3ddfaf",
   "metadata": {},
   "outputs": [],
   "source": [
    "# pvalue=0.164 > 0.05 with 95% of confidence level\n",
    "\n",
    "# We donot reject null hypothesis\n",
    "\n",
    "# Business:- All prioritization working system jobs is same.\n",
    "# Therefore, speed of system for completing of high,medium or low priority jobs is same\n",
    "# Thus overall project completion time is not lowered , it is same."
   ]
  },
  {
   "cell_type": "markdown",
   "id": "521e103b",
   "metadata": {},
   "source": [
    "## Q-5"
   ]
  },
  {
   "cell_type": "code",
   "execution_count": 72,
   "id": "429388d9",
   "metadata": {},
   "outputs": [
    {
     "data": {
      "text/html": [
       "<div>\n",
       "<style scoped>\n",
       "    .dataframe tbody tr th:only-of-type {\n",
       "        vertical-align: middle;\n",
       "    }\n",
       "\n",
       "    .dataframe tbody tr th {\n",
       "        vertical-align: top;\n",
       "    }\n",
       "\n",
       "    .dataframe thead th {\n",
       "        text-align: right;\n",
       "    }\n",
       "</style>\n",
       "<table border=\"1\" class=\"dataframe\">\n",
       "  <thead>\n",
       "    <tr style=\"text-align: right;\">\n",
       "      <th></th>\n",
       "      <th>Movie</th>\n",
       "      <th>Gender</th>\n",
       "      <th>Marital_Status</th>\n",
       "      <th>Sinage</th>\n",
       "      <th>Parking</th>\n",
       "      <th>Clean</th>\n",
       "      <th>Overall</th>\n",
       "      <th>Age</th>\n",
       "      <th>Income</th>\n",
       "      <th>Hear_About</th>\n",
       "    </tr>\n",
       "  </thead>\n",
       "  <tbody>\n",
       "    <tr>\n",
       "      <th>0</th>\n",
       "      <td>Ferris Buellers Day Off</td>\n",
       "      <td>Female</td>\n",
       "      <td>Married</td>\n",
       "      <td>2.0</td>\n",
       "      <td>2.0</td>\n",
       "      <td>2.0</td>\n",
       "      <td>2.0</td>\n",
       "      <td>3.0</td>\n",
       "      <td>1.0</td>\n",
       "      <td>5</td>\n",
       "    </tr>\n",
       "    <tr>\n",
       "      <th>1</th>\n",
       "      <td>Ferris Buellers Day Off</td>\n",
       "      <td>Female</td>\n",
       "      <td>Single</td>\n",
       "      <td>1.0</td>\n",
       "      <td>1.0</td>\n",
       "      <td>1.0</td>\n",
       "      <td>1.0</td>\n",
       "      <td>2.0</td>\n",
       "      <td>1.0</td>\n",
       "      <td>5</td>\n",
       "    </tr>\n",
       "    <tr>\n",
       "      <th>2</th>\n",
       "      <td>Ferris Buellers Day Off</td>\n",
       "      <td>Male</td>\n",
       "      <td>Married</td>\n",
       "      <td>2.0</td>\n",
       "      <td>4.0</td>\n",
       "      <td>3.0</td>\n",
       "      <td>2.0</td>\n",
       "      <td>4.0</td>\n",
       "      <td>1.0</td>\n",
       "      <td>5</td>\n",
       "    </tr>\n",
       "    <tr>\n",
       "      <th>3</th>\n",
       "      <td>Ferris Buellers Day Off</td>\n",
       "      <td>Female</td>\n",
       "      <td>Married</td>\n",
       "      <td>1.0</td>\n",
       "      <td>3.0</td>\n",
       "      <td>2.0</td>\n",
       "      <td>2.0</td>\n",
       "      <td>4.0</td>\n",
       "      <td>1.0</td>\n",
       "      <td>5</td>\n",
       "    </tr>\n",
       "    <tr>\n",
       "      <th>4</th>\n",
       "      <td>Ferris Buellers Day Off</td>\n",
       "      <td>Female</td>\n",
       "      <td>Married</td>\n",
       "      <td>1.0</td>\n",
       "      <td>1.0</td>\n",
       "      <td>1.0</td>\n",
       "      <td>1.0</td>\n",
       "      <td>3.0</td>\n",
       "      <td>3.0</td>\n",
       "      <td>1</td>\n",
       "    </tr>\n",
       "    <tr>\n",
       "      <th>...</th>\n",
       "      <td>...</td>\n",
       "      <td>...</td>\n",
       "      <td>...</td>\n",
       "      <td>...</td>\n",
       "      <td>...</td>\n",
       "      <td>...</td>\n",
       "      <td>...</td>\n",
       "      <td>...</td>\n",
       "      <td>...</td>\n",
       "      <td>...</td>\n",
       "    </tr>\n",
       "    <tr>\n",
       "      <th>325</th>\n",
       "      <td>Old School</td>\n",
       "      <td>2</td>\n",
       "      <td>2</td>\n",
       "      <td>1.0</td>\n",
       "      <td>2.0</td>\n",
       "      <td>1.0</td>\n",
       "      <td>1.0</td>\n",
       "      <td>2.0</td>\n",
       "      <td>1.0</td>\n",
       "      <td>1</td>\n",
       "    </tr>\n",
       "    <tr>\n",
       "      <th>326</th>\n",
       "      <td>Old School</td>\n",
       "      <td>1</td>\n",
       "      <td>1</td>\n",
       "      <td>2.0</td>\n",
       "      <td>2.0</td>\n",
       "      <td>2.0</td>\n",
       "      <td>2.0</td>\n",
       "      <td>3.0</td>\n",
       "      <td>3.0</td>\n",
       "      <td>5</td>\n",
       "    </tr>\n",
       "    <tr>\n",
       "      <th>327</th>\n",
       "      <td>Old School</td>\n",
       "      <td>2</td>\n",
       "      <td>1</td>\n",
       "      <td>2.0</td>\n",
       "      <td>1.0</td>\n",
       "      <td>1.0</td>\n",
       "      <td>2.0</td>\n",
       "      <td>2.0</td>\n",
       "      <td>2.0</td>\n",
       "      <td>5</td>\n",
       "    </tr>\n",
       "    <tr>\n",
       "      <th>328</th>\n",
       "      <td>Old School</td>\n",
       "      <td>1</td>\n",
       "      <td>1</td>\n",
       "      <td>1.0</td>\n",
       "      <td>1.0</td>\n",
       "      <td>1.0</td>\n",
       "      <td>1.0</td>\n",
       "      <td>2.0</td>\n",
       "      <td>1.0</td>\n",
       "      <td>3</td>\n",
       "    </tr>\n",
       "    <tr>\n",
       "      <th>329</th>\n",
       "      <td>Old School</td>\n",
       "      <td>2</td>\n",
       "      <td>2</td>\n",
       "      <td>2.0</td>\n",
       "      <td>2.0</td>\n",
       "      <td>3.0</td>\n",
       "      <td>1.0</td>\n",
       "      <td>2.0</td>\n",
       "      <td>1.0</td>\n",
       "      <td>5</td>\n",
       "    </tr>\n",
       "  </tbody>\n",
       "</table>\n",
       "<p>330 rows × 10 columns</p>\n",
       "</div>"
      ],
      "text/plain": [
       "                       Movie  Gender Marital_Status  Sinage  Parking  Clean  \\\n",
       "0    Ferris Buellers Day Off  Female        Married     2.0      2.0    2.0   \n",
       "1    Ferris Buellers Day Off  Female         Single     1.0      1.0    1.0   \n",
       "2    Ferris Buellers Day Off    Male        Married     2.0      4.0    3.0   \n",
       "3    Ferris Buellers Day Off  Female        Married     1.0      3.0    2.0   \n",
       "4    Ferris Buellers Day Off  Female        Married     1.0      1.0    1.0   \n",
       "..                       ...     ...            ...     ...      ...    ...   \n",
       "325               Old School       2              2     1.0      2.0    1.0   \n",
       "326               Old School       1              1     2.0      2.0    2.0   \n",
       "327               Old School       2              1     2.0      1.0    1.0   \n",
       "328               Old School       1              1     1.0      1.0    1.0   \n",
       "329               Old School       2              2     2.0      2.0    3.0   \n",
       "\n",
       "     Overall  Age  Income Hear_About  \n",
       "0        2.0  3.0     1.0          5  \n",
       "1        1.0  2.0     1.0          5  \n",
       "2        2.0  4.0     1.0          5  \n",
       "3        2.0  4.0     1.0          5  \n",
       "4        1.0  3.0     3.0          1  \n",
       "..       ...  ...     ...        ...  \n",
       "325      1.0  2.0     1.0          1  \n",
       "326      2.0  3.0     3.0          5  \n",
       "327      2.0  2.0     2.0          5  \n",
       "328      1.0  2.0     1.0          3  \n",
       "329      1.0  2.0     1.0          5  \n",
       "\n",
       "[330 rows x 10 columns]"
      ]
     },
     "execution_count": 72,
     "metadata": {},
     "output_type": "execute_result"
    }
   ],
   "source": [
    "films = pd.read_csv(r'Films.csv')\n",
    "films = films.drop(columns='_rowstate_')\n",
    "films"
   ]
  },
  {
   "cell_type": "code",
   "execution_count": 73,
   "id": "9af33a1a",
   "metadata": {},
   "outputs": [
    {
     "name": "stdout",
     "output_type": "stream",
     "text": [
      "<class 'pandas.core.frame.DataFrame'>\n",
      "RangeIndex: 330 entries, 0 to 329\n",
      "Data columns (total 10 columns):\n",
      " #   Column          Non-Null Count  Dtype  \n",
      "---  ------          --------------  -----  \n",
      " 0   Movie           330 non-null    object \n",
      " 1   Gender          330 non-null    object \n",
      " 2   Marital_Status  328 non-null    object \n",
      " 3   Sinage          328 non-null    float64\n",
      " 4   Parking         328 non-null    float64\n",
      " 5   Clean           327 non-null    float64\n",
      " 6   Overall         328 non-null    float64\n",
      " 7   Age             328 non-null    float64\n",
      " 8   Income          314 non-null    float64\n",
      " 9   Hear_About      323 non-null    object \n",
      "dtypes: float64(6), object(4)\n",
      "memory usage: 25.9+ KB\n"
     ]
    }
   ],
   "source": [
    "films.info()"
   ]
  },
  {
   "cell_type": "code",
   "execution_count": 74,
   "id": "1b719691",
   "metadata": {},
   "outputs": [
    {
     "data": {
      "text/html": [
       "<div>\n",
       "<style scoped>\n",
       "    .dataframe tbody tr th:only-of-type {\n",
       "        vertical-align: middle;\n",
       "    }\n",
       "\n",
       "    .dataframe tbody tr th {\n",
       "        vertical-align: top;\n",
       "    }\n",
       "\n",
       "    .dataframe thead th {\n",
       "        text-align: right;\n",
       "    }\n",
       "</style>\n",
       "<table border=\"1\" class=\"dataframe\">\n",
       "  <thead>\n",
       "    <tr style=\"text-align: right;\">\n",
       "      <th></th>\n",
       "      <th>Movie</th>\n",
       "      <th>Gender</th>\n",
       "      <th>Marital_Status</th>\n",
       "      <th>Sinage</th>\n",
       "      <th>Parking</th>\n",
       "      <th>Clean</th>\n",
       "      <th>Overall</th>\n",
       "      <th>Age</th>\n",
       "      <th>Income</th>\n",
       "      <th>Hear_About</th>\n",
       "    </tr>\n",
       "  </thead>\n",
       "  <tbody>\n",
       "    <tr>\n",
       "      <th>0</th>\n",
       "      <td>Ferris Buellers Day Off</td>\n",
       "      <td>Female</td>\n",
       "      <td>Married</td>\n",
       "      <td>2.0</td>\n",
       "      <td>2.0</td>\n",
       "      <td>2.0</td>\n",
       "      <td>2.0</td>\n",
       "      <td>3.0</td>\n",
       "      <td>1.0</td>\n",
       "      <td>5</td>\n",
       "    </tr>\n",
       "    <tr>\n",
       "      <th>1</th>\n",
       "      <td>Ferris Buellers Day Off</td>\n",
       "      <td>Female</td>\n",
       "      <td>Single</td>\n",
       "      <td>1.0</td>\n",
       "      <td>1.0</td>\n",
       "      <td>1.0</td>\n",
       "      <td>1.0</td>\n",
       "      <td>2.0</td>\n",
       "      <td>1.0</td>\n",
       "      <td>5</td>\n",
       "    </tr>\n",
       "    <tr>\n",
       "      <th>2</th>\n",
       "      <td>Ferris Buellers Day Off</td>\n",
       "      <td>Male</td>\n",
       "      <td>Married</td>\n",
       "      <td>2.0</td>\n",
       "      <td>4.0</td>\n",
       "      <td>3.0</td>\n",
       "      <td>2.0</td>\n",
       "      <td>4.0</td>\n",
       "      <td>1.0</td>\n",
       "      <td>5</td>\n",
       "    </tr>\n",
       "    <tr>\n",
       "      <th>3</th>\n",
       "      <td>Ferris Buellers Day Off</td>\n",
       "      <td>Female</td>\n",
       "      <td>Married</td>\n",
       "      <td>1.0</td>\n",
       "      <td>3.0</td>\n",
       "      <td>2.0</td>\n",
       "      <td>2.0</td>\n",
       "      <td>4.0</td>\n",
       "      <td>1.0</td>\n",
       "      <td>5</td>\n",
       "    </tr>\n",
       "    <tr>\n",
       "      <th>4</th>\n",
       "      <td>Ferris Buellers Day Off</td>\n",
       "      <td>Female</td>\n",
       "      <td>Married</td>\n",
       "      <td>1.0</td>\n",
       "      <td>1.0</td>\n",
       "      <td>1.0</td>\n",
       "      <td>1.0</td>\n",
       "      <td>3.0</td>\n",
       "      <td>3.0</td>\n",
       "      <td>1</td>\n",
       "    </tr>\n",
       "    <tr>\n",
       "      <th>...</th>\n",
       "      <td>...</td>\n",
       "      <td>...</td>\n",
       "      <td>...</td>\n",
       "      <td>...</td>\n",
       "      <td>...</td>\n",
       "      <td>...</td>\n",
       "      <td>...</td>\n",
       "      <td>...</td>\n",
       "      <td>...</td>\n",
       "      <td>...</td>\n",
       "    </tr>\n",
       "    <tr>\n",
       "      <th>325</th>\n",
       "      <td>Old School</td>\n",
       "      <td>2</td>\n",
       "      <td>2</td>\n",
       "      <td>1.0</td>\n",
       "      <td>2.0</td>\n",
       "      <td>1.0</td>\n",
       "      <td>1.0</td>\n",
       "      <td>2.0</td>\n",
       "      <td>1.0</td>\n",
       "      <td>1</td>\n",
       "    </tr>\n",
       "    <tr>\n",
       "      <th>326</th>\n",
       "      <td>Old School</td>\n",
       "      <td>1</td>\n",
       "      <td>1</td>\n",
       "      <td>2.0</td>\n",
       "      <td>2.0</td>\n",
       "      <td>2.0</td>\n",
       "      <td>2.0</td>\n",
       "      <td>3.0</td>\n",
       "      <td>3.0</td>\n",
       "      <td>5</td>\n",
       "    </tr>\n",
       "    <tr>\n",
       "      <th>327</th>\n",
       "      <td>Old School</td>\n",
       "      <td>2</td>\n",
       "      <td>1</td>\n",
       "      <td>2.0</td>\n",
       "      <td>1.0</td>\n",
       "      <td>1.0</td>\n",
       "      <td>2.0</td>\n",
       "      <td>2.0</td>\n",
       "      <td>2.0</td>\n",
       "      <td>5</td>\n",
       "    </tr>\n",
       "    <tr>\n",
       "      <th>328</th>\n",
       "      <td>Old School</td>\n",
       "      <td>1</td>\n",
       "      <td>1</td>\n",
       "      <td>1.0</td>\n",
       "      <td>1.0</td>\n",
       "      <td>1.0</td>\n",
       "      <td>1.0</td>\n",
       "      <td>2.0</td>\n",
       "      <td>1.0</td>\n",
       "      <td>3</td>\n",
       "    </tr>\n",
       "    <tr>\n",
       "      <th>329</th>\n",
       "      <td>Old School</td>\n",
       "      <td>2</td>\n",
       "      <td>2</td>\n",
       "      <td>2.0</td>\n",
       "      <td>2.0</td>\n",
       "      <td>3.0</td>\n",
       "      <td>1.0</td>\n",
       "      <td>2.0</td>\n",
       "      <td>1.0</td>\n",
       "      <td>5</td>\n",
       "    </tr>\n",
       "  </tbody>\n",
       "</table>\n",
       "<p>301 rows × 10 columns</p>\n",
       "</div>"
      ],
      "text/plain": [
       "                       Movie  Gender Marital_Status  Sinage  Parking  Clean  \\\n",
       "0    Ferris Buellers Day Off  Female        Married     2.0      2.0    2.0   \n",
       "1    Ferris Buellers Day Off  Female         Single     1.0      1.0    1.0   \n",
       "2    Ferris Buellers Day Off    Male        Married     2.0      4.0    3.0   \n",
       "3    Ferris Buellers Day Off  Female        Married     1.0      3.0    2.0   \n",
       "4    Ferris Buellers Day Off  Female        Married     1.0      1.0    1.0   \n",
       "..                       ...     ...            ...     ...      ...    ...   \n",
       "325               Old School       2              2     1.0      2.0    1.0   \n",
       "326               Old School       1              1     2.0      2.0    2.0   \n",
       "327               Old School       2              1     2.0      1.0    1.0   \n",
       "328               Old School       1              1     1.0      1.0    1.0   \n",
       "329               Old School       2              2     2.0      2.0    3.0   \n",
       "\n",
       "     Overall  Age  Income Hear_About  \n",
       "0        2.0  3.0     1.0          5  \n",
       "1        1.0  2.0     1.0          5  \n",
       "2        2.0  4.0     1.0          5  \n",
       "3        2.0  4.0     1.0          5  \n",
       "4        1.0  3.0     3.0          1  \n",
       "..       ...  ...     ...        ...  \n",
       "325      1.0  2.0     1.0          1  \n",
       "326      2.0  3.0     3.0          5  \n",
       "327      2.0  2.0     2.0          5  \n",
       "328      1.0  2.0     1.0          3  \n",
       "329      1.0  2.0     1.0          5  \n",
       "\n",
       "[301 rows x 10 columns]"
      ]
     },
     "execution_count": 74,
     "metadata": {},
     "output_type": "execute_result"
    }
   ],
   "source": [
    "films = films.dropna()\n",
    "films"
   ]
  },
  {
   "cell_type": "markdown",
   "id": "aea0c068",
   "metadata": {},
   "source": [
    "### 5. i. overall level of customer satisfaction level"
   ]
  },
  {
   "cell_type": "code",
   "execution_count": 6,
   "id": "e68a5752",
   "metadata": {},
   "outputs": [
    {
     "name": "stdout",
     "output_type": "stream",
     "text": [
      "1.6212624584717608 0.6753367561589327 301\n"
     ]
    }
   ],
   "source": [
    "mean = films.Overall.mean()\n",
    "SD = films.Overall.std()\n",
    "length = len(films)\n",
    "print(mean, SD, length)"
   ]
  },
  {
   "cell_type": "code",
   "execution_count": 7,
   "id": "50f73431",
   "metadata": {},
   "outputs": [
    {
     "data": {
      "text/plain": [
       "0.038925763497347034"
      ]
     },
     "execution_count": 7,
     "metadata": {},
     "output_type": "execute_result"
    }
   ],
   "source": [
    "SE = SD / np.sqrt(length)\n",
    "SE"
   ]
  },
  {
   "cell_type": "code",
   "execution_count": 8,
   "id": "ded0e7fe",
   "metadata": {},
   "outputs": [
    {
     "name": "stdout",
     "output_type": "stream",
     "text": [
      "1.5449679620169605 1.697556954926561\n"
     ]
    }
   ],
   "source": [
    "# 95% confidence intervals\n",
    "L = mean - (1.96 * SE)\n",
    "U = mean + (1.96 * SE)\n",
    "print(L, U)"
   ]
  },
  {
   "cell_type": "markdown",
   "id": "283f103f",
   "metadata": {},
   "source": [
    " Overall customer satisfaction lies between (1.5445322728780404,1.69327260517074) at 95% confidence level."
   ]
  },
  {
   "cell_type": "markdown",
   "id": "c63c1b97",
   "metadata": {},
   "source": [
    "### 5. ii. Factors linked to satisfaction\n"
   ]
  },
  {
   "cell_type": "code",
   "execution_count": 9,
   "id": "41ce20d9",
   "metadata": {},
   "outputs": [
    {
     "data": {
      "text/plain": [
       "(121.32462033201084,\n",
       " 3.054444776360607e-18,\n",
       " 16,\n",
       " array([[4.77906977e+01, 5.16279070e+01, 4.18604651e+00, 3.48837209e-01,\n",
       "         1.04651163e+00],\n",
       "        [6.37209302e+01, 6.88372093e+01, 5.58139535e+00, 4.65116279e-01,\n",
       "         1.39534884e+00],\n",
       "        [2.04817276e+01, 2.21262458e+01, 1.79401993e+00, 1.49501661e-01,\n",
       "         4.48504983e-01],\n",
       "        [2.73089701e+00, 2.95016611e+00, 2.39202658e-01, 1.99335548e-02,\n",
       "         5.98006645e-02],\n",
       "        [2.27574751e+00, 2.45847176e+00, 1.99335548e-01, 1.66112957e-02,\n",
       "         4.98338870e-02]]))"
      ]
     },
     "execution_count": 9,
     "metadata": {},
     "output_type": "execute_result"
    }
   ],
   "source": [
    "# Using chi square test to check the independence of variables at 95% confidence level.\n",
    "\n",
    "# H0: No relationship, independent\n",
    "# H1: There is relationship, dependent\n",
    "obs = pd.crosstab(films.Sinage,films.Overall)\n",
    "\n",
    "stats.chi2_contingency(obs)\n",
    "\n",
    "# p=3.054444776360607e-18 < 0.05 , we reject Ho\n",
    "# Overall satisfaction is dependent on Sinage\n",
    "# when increase in sinage, Overall satisfaction also increases"
   ]
  },
  {
   "cell_type": "code",
   "execution_count": 10,
   "id": "5c01b19a",
   "metadata": {},
   "outputs": [
    {
     "data": {
      "text/plain": [
       "(218.79348282085004,\n",
       " 1.2264032549812005e-37,\n",
       " 16,\n",
       " array([[5.55282392e+01, 5.99867110e+01, 4.86378738e+00, 4.05315615e-01,\n",
       "         1.21594684e+00],\n",
       "        [6.32657807e+01, 6.83455150e+01, 5.54152824e+00, 4.61794020e-01,\n",
       "         1.38538206e+00],\n",
       "        [1.31993355e+01, 1.42591362e+01, 1.15614618e+00, 9.63455150e-02,\n",
       "         2.89036545e-01],\n",
       "        [3.18604651e+00, 3.44186047e+00, 2.79069767e-01, 2.32558140e-02,\n",
       "         6.97674419e-02],\n",
       "        [1.82059801e+00, 1.96677741e+00, 1.59468439e-01, 1.32890365e-02,\n",
       "         3.98671096e-02]]))"
      ]
     },
     "execution_count": 10,
     "metadata": {},
     "output_type": "execute_result"
    }
   ],
   "source": [
    "# H0: No relationship, independent\n",
    "# H1: There is relationship, dependent\n",
    "obs = pd.crosstab(films.Parking,films.Overall)\n",
    "\n",
    "stats.chi2_contingency(obs)\n",
    "\n",
    "# p=1.2264032549812005e-37 < 0.05 , we reject Ho\n",
    "# Overall satisfaction is dependent on Parking\n",
    "# when increase in Parking efficiency, Overall satisfaction also increases."
   ]
  },
  {
   "cell_type": "code",
   "execution_count": 11,
   "id": "9c4eb58b",
   "metadata": {},
   "outputs": [
    {
     "data": {
      "text/plain": [
       "(129.0342392337068,\n",
       " 9.882317099745693e-20,\n",
       " 16,\n",
       " array([[6.09900332e+01, 6.58870432e+01, 5.34219269e+00, 4.45182724e-01,\n",
       "         1.33554817e+00],\n",
       "        [6.28106312e+01, 6.78538206e+01, 5.50166113e+00, 4.58471761e-01,\n",
       "         1.37541528e+00],\n",
       "        [1.00132890e+01, 1.08172757e+01, 8.77076412e-01, 7.30897010e-02,\n",
       "         2.19269103e-01],\n",
       "        [2.27574751e+00, 2.45847176e+00, 1.99335548e-01, 1.66112957e-02,\n",
       "         4.98338870e-02],\n",
       "        [9.10299003e-01, 9.83388704e-01, 7.97342193e-02, 6.64451827e-03,\n",
       "         1.99335548e-02]]))"
      ]
     },
     "execution_count": 11,
     "metadata": {},
     "output_type": "execute_result"
    }
   ],
   "source": [
    "# H0: No relationship, independent\n",
    "# H1: There is relationship, dependent\n",
    "obs = pd.crosstab(films.Clean,films.Overall)\n",
    "\n",
    "stats.chi2_contingency(obs)\n",
    "\n",
    "# p=9.882317099745693e-20 < 0.05 , we reject Ho\n",
    "# Overall satisfaction is dependent on Cleanliness\n",
    "# When cleaniness of the venue increases,  Overall satisfaction also increases."
   ]
  },
  {
   "cell_type": "code",
   "execution_count": 12,
   "id": "e2de0ff1",
   "metadata": {},
   "outputs": [
    {
     "data": {
      "text/plain": [
       "(11.024837235069565,\n",
       " 0.5267913370930692,\n",
       " 12,\n",
       " array([[1.00132890e+01, 1.08172757e+01, 8.77076412e-01, 7.30897010e-02,\n",
       "         2.19269103e-01],\n",
       "        [7.46445183e+01, 8.06378738e+01, 6.53820598e+00, 5.44850498e-01,\n",
       "         1.63455150e+00],\n",
       "        [4.91561462e+01, 5.31029900e+01, 4.30564784e+00, 3.58803987e-01,\n",
       "         1.07641196e+00],\n",
       "        [3.18604651e+00, 3.44186047e+00, 2.79069767e-01, 2.32558140e-02,\n",
       "         6.97674419e-02]]))"
      ]
     },
     "execution_count": 12,
     "metadata": {},
     "output_type": "execute_result"
    }
   ],
   "source": [
    "# H0: No relationship, independent\n",
    "# H1: There is relationship, dependent\n",
    "obs = pd.crosstab(films.Age,films.Overall)\n",
    "\n",
    "stats.chi2_contingency(obs)\n",
    "\n",
    "# p=0.5267913370930692 > 0.05 , Accept Ho\n",
    "# Overall satisfaction Person's age doesn't depend on each other."
   ]
  },
  {
   "cell_type": "code",
   "execution_count": 13,
   "id": "ae7880ef",
   "metadata": {},
   "outputs": [
    {
     "data": {
      "text/plain": [
       "(4.9478735426424,\n",
       " 0.7631326888324932,\n",
       " 8,\n",
       " array([[61.44518272, 66.37873754,  5.3820598 ,  0.44850498,  1.34551495],\n",
       "        [36.41196013, 39.33554817,  3.18936877,  0.26578073,  0.79734219],\n",
       "        [39.14285714, 42.28571429,  3.42857143,  0.28571429,  0.85714286]]))"
      ]
     },
     "execution_count": 13,
     "metadata": {},
     "output_type": "execute_result"
    }
   ],
   "source": [
    "# H0: No relationship, independent\n",
    "# H1: There is relationship, dependent\n",
    "obs = pd.crosstab(films.Income,films.Overall)\n",
    "\n",
    "stats.chi2_contingency(obs)\n",
    "\n",
    "# p=0.7631326888324932 > 0.05 , Accept Ho\n",
    "# Overall satisfaction is not dependent on Income."
   ]
  },
  {
   "cell_type": "code",
   "execution_count": 14,
   "id": "66092de0",
   "metadata": {},
   "outputs": [
    {
     "data": {
      "text/plain": [
       "(21.659744148982803,\n",
       " 0.9920532791201511,\n",
       " 40,\n",
       " array([[8.64784053e+00, 9.34219269e+00, 7.57475083e-01, 6.31229236e-02,\n",
       "         1.89368771e-01],\n",
       "        [4.55149502e-01, 4.91694352e-01, 3.98671096e-02, 3.32225914e-03,\n",
       "         9.96677741e-03],\n",
       "        [5.00664452e+00, 5.40863787e+00, 4.38538206e-01, 3.65448505e-02,\n",
       "         1.09634551e-01],\n",
       "        [9.10299003e-01, 9.83388704e-01, 7.97342193e-02, 6.64451827e-03,\n",
       "         1.99335548e-02],\n",
       "        [5.91694352e+00, 6.39202658e+00, 5.18272425e-01, 4.31893688e-02,\n",
       "         1.29568106e-01],\n",
       "        [4.55149502e-01, 4.91694352e-01, 3.98671096e-02, 3.32225914e-03,\n",
       "         9.96677741e-03],\n",
       "        [4.55149502e-01, 4.91694352e-01, 3.98671096e-02, 3.32225914e-03,\n",
       "         9.96677741e-03],\n",
       "        [1.77508306e+01, 1.91760797e+01, 1.55481728e+00, 1.29568106e-01,\n",
       "         3.88704319e-01],\n",
       "        [4.55149502e-01, 4.91694352e-01, 3.98671096e-02, 3.32225914e-03,\n",
       "         9.96677741e-03],\n",
       "        [9.64916944e+01, 1.04239203e+02, 8.45182724e+00, 7.04318937e-01,\n",
       "         2.11295681e+00],\n",
       "        [4.55149502e-01, 4.91694352e-01, 3.98671096e-02, 3.32225914e-03,\n",
       "         9.96677741e-03]]))"
      ]
     },
     "execution_count": 14,
     "metadata": {},
     "output_type": "execute_result"
    }
   ],
   "source": [
    "# H0: No relationship, independent\n",
    "# H1: There is relationship, dependent\n",
    "obs = pd.crosstab(films.Hear_About,films.Overall)\n",
    "\n",
    "stats.chi2_contingency(obs)\n",
    "\n",
    "# p=0.9920532791201511 > 0.05 ,Accept Ho\n",
    "# Overall satisfaction is not dependent on Hear_about."
   ]
  },
  {
   "cell_type": "code",
   "execution_count": 15,
   "id": "f0711eb5",
   "metadata": {},
   "outputs": [
    {
     "data": {
      "text/plain": [
       "(14.207273286990997,\n",
       " 0.2876685403329753,\n",
       " 12,\n",
       " array([[4.23289037e+01, 4.57275748e+01, 3.70764120e+00, 3.08970100e-01,\n",
       "         9.26910299e-01],\n",
       "        [8.14717608e+01, 8.80132890e+01, 7.13621262e+00, 5.94684385e-01,\n",
       "         1.78405316e+00],\n",
       "        [7.28239203e+00, 7.86710963e+00, 6.37873754e-01, 5.31561462e-02,\n",
       "         1.59468439e-01],\n",
       "        [5.91694352e+00, 6.39202658e+00, 5.18272425e-01, 4.31893688e-02,\n",
       "         1.29568106e-01]]))"
      ]
     },
     "execution_count": 15,
     "metadata": {},
     "output_type": "execute_result"
    }
   ],
   "source": [
    "# H0: No relationship, independent\n",
    "# H1: There is relationship, dependent\n",
    "obs = pd.crosstab(films.Gender,films.Overall)\n",
    "\n",
    "stats.chi2_contingency(obs)\n",
    "\n",
    "# p=0.2876685403329753 > 0.05 ,Accept Ho \n",
    "# Overall satisfaction is not dependent on Hear_about."
   ]
  },
  {
   "cell_type": "code",
   "execution_count": 16,
   "id": "3d85d313",
   "metadata": {},
   "outputs": [
    {
     "data": {
      "text/plain": [
       "(10.819027209857504,\n",
       " 0.8205155680018543,\n",
       " 16,\n",
       " array([[3.64119601e+01, 3.93355482e+01, 3.18936877e+00, 2.65780731e-01,\n",
       "         7.97342193e-01],\n",
       "        [8.73887043e+01, 9.44053156e+01, 7.65448505e+00, 6.37873754e-01,\n",
       "         1.91362126e+00],\n",
       "        [5.00664452e+00, 5.40863787e+00, 4.38538206e-01, 3.65448505e-02,\n",
       "         1.09634551e-01],\n",
       "        [7.28239203e+00, 7.86710963e+00, 6.37873754e-01, 5.31561462e-02,\n",
       "         1.59468439e-01],\n",
       "        [9.10299003e-01, 9.83388704e-01, 7.97342193e-02, 6.64451827e-03,\n",
       "         1.99335548e-02]]))"
      ]
     },
     "execution_count": 16,
     "metadata": {},
     "output_type": "execute_result"
    }
   ],
   "source": [
    "# H0: No relationship, independent\n",
    "# H1: There is relationship, dependent\n",
    "obs = pd.crosstab(films.Marital_Status,films.Overall)\n",
    "\n",
    "stats.chi2_contingency(obs)\n",
    "\n",
    "# p=0.8205155680018543 > 0.05 ,Accept Ho\n",
    "# Overall satisfaction is not dependent on Martial status."
   ]
  },
  {
   "cell_type": "code",
   "execution_count": 78,
   "id": "2e37528c",
   "metadata": {},
   "outputs": [
    {
     "data": {
      "text/html": [
       "<div>\n",
       "<style scoped>\n",
       "    .dataframe tbody tr th:only-of-type {\n",
       "        vertical-align: middle;\n",
       "    }\n",
       "\n",
       "    .dataframe tbody tr th {\n",
       "        vertical-align: top;\n",
       "    }\n",
       "\n",
       "    .dataframe thead th {\n",
       "        text-align: right;\n",
       "    }\n",
       "</style>\n",
       "<table border=\"1\" class=\"dataframe\">\n",
       "  <thead>\n",
       "    <tr style=\"text-align: right;\">\n",
       "      <th></th>\n",
       "      <th>Movie</th>\n",
       "      <th>Gender</th>\n",
       "      <th>Marital_Status</th>\n",
       "      <th>Sinage</th>\n",
       "      <th>Parking</th>\n",
       "      <th>Clean</th>\n",
       "      <th>Overall</th>\n",
       "      <th>Age</th>\n",
       "      <th>Income</th>\n",
       "      <th>Hear_About</th>\n",
       "    </tr>\n",
       "  </thead>\n",
       "  <tbody>\n",
       "    <tr>\n",
       "      <th>0</th>\n",
       "      <td>Ferris Buellers Day Off</td>\n",
       "      <td>Female</td>\n",
       "      <td>Married</td>\n",
       "      <td>2.0</td>\n",
       "      <td>2.0</td>\n",
       "      <td>2.0</td>\n",
       "      <td>2.0</td>\n",
       "      <td>3.0</td>\n",
       "      <td>1.0</td>\n",
       "      <td>5</td>\n",
       "    </tr>\n",
       "    <tr>\n",
       "      <th>1</th>\n",
       "      <td>Ferris Buellers Day Off</td>\n",
       "      <td>Female</td>\n",
       "      <td>Single</td>\n",
       "      <td>1.0</td>\n",
       "      <td>1.0</td>\n",
       "      <td>1.0</td>\n",
       "      <td>1.0</td>\n",
       "      <td>2.0</td>\n",
       "      <td>1.0</td>\n",
       "      <td>5</td>\n",
       "    </tr>\n",
       "    <tr>\n",
       "      <th>2</th>\n",
       "      <td>Ferris Buellers Day Off</td>\n",
       "      <td>Male</td>\n",
       "      <td>Married</td>\n",
       "      <td>2.0</td>\n",
       "      <td>4.0</td>\n",
       "      <td>3.0</td>\n",
       "      <td>2.0</td>\n",
       "      <td>4.0</td>\n",
       "      <td>1.0</td>\n",
       "      <td>5</td>\n",
       "    </tr>\n",
       "    <tr>\n",
       "      <th>3</th>\n",
       "      <td>Ferris Buellers Day Off</td>\n",
       "      <td>Female</td>\n",
       "      <td>Married</td>\n",
       "      <td>1.0</td>\n",
       "      <td>3.0</td>\n",
       "      <td>2.0</td>\n",
       "      <td>2.0</td>\n",
       "      <td>4.0</td>\n",
       "      <td>1.0</td>\n",
       "      <td>5</td>\n",
       "    </tr>\n",
       "    <tr>\n",
       "      <th>4</th>\n",
       "      <td>Ferris Buellers Day Off</td>\n",
       "      <td>Female</td>\n",
       "      <td>Married</td>\n",
       "      <td>1.0</td>\n",
       "      <td>1.0</td>\n",
       "      <td>1.0</td>\n",
       "      <td>1.0</td>\n",
       "      <td>3.0</td>\n",
       "      <td>3.0</td>\n",
       "      <td>1</td>\n",
       "    </tr>\n",
       "    <tr>\n",
       "      <th>...</th>\n",
       "      <td>...</td>\n",
       "      <td>...</td>\n",
       "      <td>...</td>\n",
       "      <td>...</td>\n",
       "      <td>...</td>\n",
       "      <td>...</td>\n",
       "      <td>...</td>\n",
       "      <td>...</td>\n",
       "      <td>...</td>\n",
       "      <td>...</td>\n",
       "    </tr>\n",
       "    <tr>\n",
       "      <th>325</th>\n",
       "      <td>Old School</td>\n",
       "      <td>Female</td>\n",
       "      <td>2</td>\n",
       "      <td>1.0</td>\n",
       "      <td>2.0</td>\n",
       "      <td>1.0</td>\n",
       "      <td>1.0</td>\n",
       "      <td>2.0</td>\n",
       "      <td>1.0</td>\n",
       "      <td>1</td>\n",
       "    </tr>\n",
       "    <tr>\n",
       "      <th>326</th>\n",
       "      <td>Old School</td>\n",
       "      <td>Male</td>\n",
       "      <td>1</td>\n",
       "      <td>2.0</td>\n",
       "      <td>2.0</td>\n",
       "      <td>2.0</td>\n",
       "      <td>2.0</td>\n",
       "      <td>3.0</td>\n",
       "      <td>3.0</td>\n",
       "      <td>5</td>\n",
       "    </tr>\n",
       "    <tr>\n",
       "      <th>327</th>\n",
       "      <td>Old School</td>\n",
       "      <td>Female</td>\n",
       "      <td>1</td>\n",
       "      <td>2.0</td>\n",
       "      <td>1.0</td>\n",
       "      <td>1.0</td>\n",
       "      <td>2.0</td>\n",
       "      <td>2.0</td>\n",
       "      <td>2.0</td>\n",
       "      <td>5</td>\n",
       "    </tr>\n",
       "    <tr>\n",
       "      <th>328</th>\n",
       "      <td>Old School</td>\n",
       "      <td>Male</td>\n",
       "      <td>1</td>\n",
       "      <td>1.0</td>\n",
       "      <td>1.0</td>\n",
       "      <td>1.0</td>\n",
       "      <td>1.0</td>\n",
       "      <td>2.0</td>\n",
       "      <td>1.0</td>\n",
       "      <td>3</td>\n",
       "    </tr>\n",
       "    <tr>\n",
       "      <th>329</th>\n",
       "      <td>Old School</td>\n",
       "      <td>Female</td>\n",
       "      <td>2</td>\n",
       "      <td>2.0</td>\n",
       "      <td>2.0</td>\n",
       "      <td>3.0</td>\n",
       "      <td>1.0</td>\n",
       "      <td>2.0</td>\n",
       "      <td>1.0</td>\n",
       "      <td>5</td>\n",
       "    </tr>\n",
       "  </tbody>\n",
       "</table>\n",
       "<p>301 rows × 10 columns</p>\n",
       "</div>"
      ],
      "text/plain": [
       "                       Movie  Gender Marital_Status  Sinage  Parking  Clean  \\\n",
       "0    Ferris Buellers Day Off  Female        Married     2.0      2.0    2.0   \n",
       "1    Ferris Buellers Day Off  Female         Single     1.0      1.0    1.0   \n",
       "2    Ferris Buellers Day Off    Male        Married     2.0      4.0    3.0   \n",
       "3    Ferris Buellers Day Off  Female        Married     1.0      3.0    2.0   \n",
       "4    Ferris Buellers Day Off  Female        Married     1.0      1.0    1.0   \n",
       "..                       ...     ...            ...     ...      ...    ...   \n",
       "325               Old School  Female              2     1.0      2.0    1.0   \n",
       "326               Old School    Male              1     2.0      2.0    2.0   \n",
       "327               Old School  Female              1     2.0      1.0    1.0   \n",
       "328               Old School    Male              1     1.0      1.0    1.0   \n",
       "329               Old School  Female              2     2.0      2.0    3.0   \n",
       "\n",
       "     Overall  Age  Income Hear_About  \n",
       "0        2.0  3.0     1.0          5  \n",
       "1        1.0  2.0     1.0          5  \n",
       "2        2.0  4.0     1.0          5  \n",
       "3        2.0  4.0     1.0          5  \n",
       "4        1.0  3.0     3.0          1  \n",
       "..       ...  ...     ...        ...  \n",
       "325      1.0  2.0     1.0          1  \n",
       "326      2.0  3.0     3.0          5  \n",
       "327      2.0  2.0     2.0          5  \n",
       "328      1.0  2.0     1.0          3  \n",
       "329      1.0  2.0     1.0          5  \n",
       "\n",
       "[301 rows x 10 columns]"
      ]
     },
     "execution_count": 78,
     "metadata": {},
     "output_type": "execute_result"
    }
   ],
   "source": [
    "# Assigning Males as 1 and Females as 2 in gender column\n",
    "films.Gender = np.where(films.Gender == '1','Male',films.Gender)\n",
    "films.Gender = np.where(films.Gender == '2', 'Female',films.Gender)\n",
    "films"
   ]
  },
  {
   "cell_type": "markdown",
   "id": "8f4b6280",
   "metadata": {},
   "source": [
    "### 5. iii. demographic profile of Film on the Rocks patrons"
   ]
  },
  {
   "cell_type": "code",
   "execution_count": 81,
   "id": "cb25cbd5",
   "metadata": {},
   "outputs": [
    {
     "name": "stdout",
     "output_type": "stream",
     "text": [
      "   Gender  count  Probability\n",
      "0  Female    195     0.647841\n",
      "1    Male    106     0.352159\n",
      " \tThere is 64% prob that the patrons gender is Female \n"
     ]
    }
   ],
   "source": [
    "# Demography on Gender\n",
    "\n",
    "gender = films.groupby('Gender')[['Gender']].count()\n",
    "gender = gender.rename(columns={'Gender': 'count'}).reset_index() #renaming and resetting the index \n",
    "gender['Probability'] = gender['count'] / gender['count'].sum()\n",
    "print(gender)\n",
    "print(' \\tThere is 64% prob that the patrons gender is Female ')"
   ]
  },
  {
   "cell_type": "code",
   "execution_count": 94,
   "id": "6641c584",
   "metadata": {},
   "outputs": [
    {
     "data": {
      "text/plain": [
       "array(['Married', 'Single'], dtype=object)"
      ]
     },
     "execution_count": 94,
     "metadata": {},
     "output_type": "execute_result"
    }
   ],
   "source": [
    "#Assigning 1 as single and 2 as married\n",
    "\n",
    "films.Marital_Status = np.where(films.Marital_Status == '1','Single',films.Marital_Status)\n",
    "films.Marital_Status = np.where(films.Marital_Status == '2','Married',films.Marital_Status)\n",
    "films.Marital_Status = films.Marital_Status.replace('Slngle','Single')\n",
    "films.Marital_Status.unique()"
   ]
  },
  {
   "cell_type": "code",
   "execution_count": 98,
   "id": "ac4924bd",
   "metadata": {},
   "outputs": [
    {
     "name": "stdout",
     "output_type": "stream",
     "text": [
      "  Marital_Status  count  Probability\n",
      "0        Married    203     0.674419\n",
      "1         Single     98     0.325581\n",
      "\tThere is 67% probability that patrons marital status is married\n",
      "  \t 67% of the people who watched movies are married\n"
     ]
    }
   ],
   "source": [
    "# Demography on Marital_Status\n",
    "\n",
    "Marital_Status = films.groupby('Marital_Status')[['Marital_Status']].count()\n",
    "Marital_Status = Marital_Status.rename(columns={'Marital_Status': 'count'}).reset_index() #renaming and resetting the index \n",
    "Marital_Status['Probability'] =Marital_Status['count'] / Marital_Status['count'].sum()\n",
    "print(Marital_Status)\n",
    "print('\\tThere is 67% probability that patrons marital status is married')\n",
    "print('  \\t 67% of the people who watched movies are married')"
   ]
  },
  {
   "cell_type": "code",
   "execution_count": 52,
   "id": "9489e60e",
   "metadata": {},
   "outputs": [
    {
     "name": "stdout",
     "output_type": "stream",
     "text": [
      "   Age  count      Prob\n",
      "0  1.0     22  0.073090\n",
      "1  2.0    164  0.544850\n",
      "2  3.0    108  0.358804\n",
      "3  4.0      7  0.023256\n",
      "\n",
      "There is 54% probability that patrons age is between 13-30 years.\n"
     ]
    }
   ],
   "source": [
    "# Demography on Age\n",
    "\n",
    "Age = films.groupby('Age')[['Age']].count()\n",
    "Age = Age.rename(columns={'Age':'count'}).reset_index()\n",
    "Age['Prob'] = Age['count'] /Age['count'].sum()\n",
    "print(Age)\n",
    "print('\\nThere is 54% probability that patrons age is between 13-30 years.')"
   ]
  },
  {
   "cell_type": "code",
   "execution_count": 50,
   "id": "e7797c13",
   "metadata": {},
   "outputs": [
    {
     "name": "stdout",
     "output_type": "stream",
     "text": [
      "   Income  count      Prob\n",
      "0     1.0    135  0.448505\n",
      "1     2.0     80  0.265781\n",
      "2     3.0     86  0.285714\n",
      "\n",
      "There is 44% probabbility that patrons annual household income is less than $50,000.\n"
     ]
    }
   ],
   "source": [
    "# Demography on Income\n",
    "\n",
    "Income = films.groupby('Income')[['Income']].count()\n",
    "Income = Income.rename(columns={'Income' : 'count'}).reset_index()\n",
    "Income['Prob'] = Income['count'] / Income['count'].sum()\n",
    "print(Income)\n",
    "print('\\nThere is 44% probabbility that patrons annual household income is less than $50,000.')"
   ]
  },
  {
   "cell_type": "markdown",
   "id": "f7685a05",
   "metadata": {},
   "source": [
    "### 5. iv. In what media outlet(s) should the film series be advertised"
   ]
  },
  {
   "cell_type": "code",
   "execution_count": 60,
   "id": "6980ebac",
   "metadata": {},
   "outputs": [
    {
     "name": "stdout",
     "output_type": "stream",
     "text": [
      "   Hear_About  count      Prob\n",
      "0           1     19  0.063123\n",
      "1         1,5      1  0.003322\n",
      "2           2     11  0.036545\n",
      "3         2,5      2  0.006645\n",
      "4           3     13  0.043189\n",
      "5         3,4      1  0.003322\n",
      "6         3,5      1  0.003322\n",
      "7           4     39  0.129568\n",
      "8         4,5      1  0.003322\n",
      "9           5    212  0.704319\n",
      "10        5,4      1  0.003322\n",
      "\n",
      "There is 70% probability that people have heard about this film on Rocks by 5 word of mouth.\n"
     ]
    }
   ],
   "source": [
    "\n",
    "\n",
    "Hear_About = films.groupby('Hear_About')[['Hear_About']].count()\n",
    "Hear_About = Hear_About.rename(columns={'Hear_About' : 'count'}).reset_index()\n",
    "Hear_About['Prob'] = Hear_About['count'] / Hear_About['count'].sum()\n",
    "print(Hear_About)\n",
    "print('\\nThere is 70% probability that people have heard about this film on Rocks by 5 word of mouth.')"
   ]
  },
  {
   "cell_type": "code",
   "execution_count": null,
   "id": "d97b3f86",
   "metadata": {},
   "outputs": [],
   "source": []
  },
  {
   "cell_type": "code",
   "execution_count": null,
   "id": "bcbd2c6d",
   "metadata": {},
   "outputs": [],
   "source": []
  }
 ],
 "metadata": {
  "kernelspec": {
   "display_name": "Python 3 (ipykernel)",
   "language": "python",
   "name": "python3"
  },
  "language_info": {
   "codemirror_mode": {
    "name": "ipython",
    "version": 3
   },
   "file_extension": ".py",
   "mimetype": "text/x-python",
   "name": "python",
   "nbconvert_exporter": "python",
   "pygments_lexer": "ipython3",
   "version": "3.9.13"
  }
 },
 "nbformat": 4,
 "nbformat_minor": 5
}
